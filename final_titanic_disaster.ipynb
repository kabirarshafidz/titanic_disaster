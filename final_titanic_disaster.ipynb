{
 "cells": [
  {
   "cell_type": "code",
   "execution_count": 1,
   "id": "ede02e1e",
   "metadata": {
    "_cell_guid": "b1076dfc-b9ad-4769-8c92-a6c4dae69d19",
    "_uuid": "8f2839f25d086af736a60e9eeb907d3b93b6e0e5",
    "execution": {
     "iopub.execute_input": "2024-11-03T06:33:05.344014Z",
     "iopub.status.busy": "2024-11-03T06:33:05.343050Z",
     "iopub.status.idle": "2024-11-03T06:33:08.503330Z",
     "shell.execute_reply": "2024-11-03T06:33:08.501983Z"
    },
    "papermill": {
     "duration": 3.192438,
     "end_time": "2024-11-03T06:33:08.505572",
     "exception": false,
     "start_time": "2024-11-03T06:33:05.313134",
     "status": "completed"
    },
    "tags": []
   },
   "outputs": [
    {
     "name": "stdout",
     "output_type": "stream",
     "text": [
      "/kaggle/input/titanic/train.csv\n",
      "/kaggle/input/titanic/test.csv\n",
      "/kaggle/input/titanic/gender_submission.csv\n"
     ]
    }
   ],
   "source": [
    "# This Python 3 environment comes with many helpful analytics libraries installed\n",
    "# It is defined by the kaggle/python Docker image: https://github.com/kaggle/docker-python\n",
    "# For example, here's several helpful packages to load\n",
    "\n",
    "import numpy as np # linear algebra\n",
    "import pandas as pd # data processing, CSV file I/O (e.g. pd.read_csv)\n",
    "import matplotlib.pyplot as plt\n",
    "import seaborn as sns\n",
    "\n",
    "# preprocessor\n",
    "from sklearn.preprocessing import StandardScaler, OneHotEncoder\n",
    "from sklearn.svm import SVR\n",
    "\n",
    "# model\n",
    "from sklearn.ensemble import GradientBoostingClassifier, RandomForestClassifier, GradientBoostingRegressor\n",
    "from xgboost import XGBClassifier\n",
    "from catboost import CatBoostClassifier\n",
    "from sklearn.model_selection import train_test_split\n",
    "\n",
    "# feature engineering\n",
    "from sklearn.feature_selection import mutual_info_regression\n",
    "from sklearn.decomposition import PCA\n",
    "import re\n",
    "\n",
    "# evaluation\n",
    "from sklearn.model_selection import cross_val_score\n",
    "\n",
    "# metrics\n",
    "from sklearn.metrics import accuracy_score, classification_report, confusion_matrix\n",
    "\n",
    "# hyperparameter tuning\n",
    "from sklearn.model_selection import GridSearchCV, RandomizedSearchCV\n",
    "\n",
    "SEED=42\n",
    "\n",
    "# Input data files are available in the read-only \"../input/\" directory\n",
    "# For example, running this (by clicking run or pressing Shift+Enter) will list all files under the input directory\n",
    "\n",
    "import os\n",
    "for dirname, _, filenames in os.walk('/kaggle/input'):\n",
    "    for filename in filenames:\n",
    "        print(os.path.join(dirname, filename))\n",
    "        \n",
    "# You can write up to 20GB to the current directory (/kaggle/working/) that gets preserved as output when you create a version using \"Save & Run All\" \n",
    "\n",
    "# You can also write temporary files to /kaggle/temp/, but they won't be saved outside of the current session"
   ]
  },
  {
   "cell_type": "markdown",
   "id": "c5ec7249",
   "metadata": {
    "papermill": {
     "duration": 0.025684,
     "end_time": "2024-11-03T06:33:08.556991",
     "exception": false,
     "start_time": "2024-11-03T06:33:08.531307",
     "status": "completed"
    },
    "tags": []
   },
   "source": [
    "# Data Loading"
   ]
  },
  {
   "cell_type": "code",
   "execution_count": 2,
   "id": "b37472ba",
   "metadata": {
    "execution": {
     "iopub.execute_input": "2024-11-03T06:33:08.610897Z",
     "iopub.status.busy": "2024-11-03T06:33:08.610038Z",
     "iopub.status.idle": "2024-11-03T06:33:08.657638Z",
     "shell.execute_reply": "2024-11-03T06:33:08.656570Z"
    },
    "papermill": {
     "duration": 0.077234,
     "end_time": "2024-11-03T06:33:08.660043",
     "exception": false,
     "start_time": "2024-11-03T06:33:08.582809",
     "status": "completed"
    },
    "tags": []
   },
   "outputs": [
    {
     "data": {
      "text/html": [
       "<div>\n",
       "<style scoped>\n",
       "    .dataframe tbody tr th:only-of-type {\n",
       "        vertical-align: middle;\n",
       "    }\n",
       "\n",
       "    .dataframe tbody tr th {\n",
       "        vertical-align: top;\n",
       "    }\n",
       "\n",
       "    .dataframe thead th {\n",
       "        text-align: right;\n",
       "    }\n",
       "</style>\n",
       "<table border=\"1\" class=\"dataframe\">\n",
       "  <thead>\n",
       "    <tr style=\"text-align: right;\">\n",
       "      <th></th>\n",
       "      <th>Survived</th>\n",
       "      <th>Pclass</th>\n",
       "      <th>Name</th>\n",
       "      <th>Sex</th>\n",
       "      <th>Age</th>\n",
       "      <th>SibSp</th>\n",
       "      <th>Parch</th>\n",
       "      <th>Ticket</th>\n",
       "      <th>Fare</th>\n",
       "      <th>Cabin</th>\n",
       "      <th>Embarked</th>\n",
       "    </tr>\n",
       "    <tr>\n",
       "      <th>PassengerId</th>\n",
       "      <th></th>\n",
       "      <th></th>\n",
       "      <th></th>\n",
       "      <th></th>\n",
       "      <th></th>\n",
       "      <th></th>\n",
       "      <th></th>\n",
       "      <th></th>\n",
       "      <th></th>\n",
       "      <th></th>\n",
       "      <th></th>\n",
       "    </tr>\n",
       "  </thead>\n",
       "  <tbody>\n",
       "    <tr>\n",
       "      <th>1</th>\n",
       "      <td>0</td>\n",
       "      <td>3</td>\n",
       "      <td>Braund, Mr. Owen Harris</td>\n",
       "      <td>male</td>\n",
       "      <td>22.0</td>\n",
       "      <td>1</td>\n",
       "      <td>0</td>\n",
       "      <td>A/5 21171</td>\n",
       "      <td>7.2500</td>\n",
       "      <td>NaN</td>\n",
       "      <td>S</td>\n",
       "    </tr>\n",
       "    <tr>\n",
       "      <th>2</th>\n",
       "      <td>1</td>\n",
       "      <td>1</td>\n",
       "      <td>Cumings, Mrs. John Bradley (Florence Briggs Th...</td>\n",
       "      <td>female</td>\n",
       "      <td>38.0</td>\n",
       "      <td>1</td>\n",
       "      <td>0</td>\n",
       "      <td>PC 17599</td>\n",
       "      <td>71.2833</td>\n",
       "      <td>C85</td>\n",
       "      <td>C</td>\n",
       "    </tr>\n",
       "    <tr>\n",
       "      <th>3</th>\n",
       "      <td>1</td>\n",
       "      <td>3</td>\n",
       "      <td>Heikkinen, Miss. Laina</td>\n",
       "      <td>female</td>\n",
       "      <td>26.0</td>\n",
       "      <td>0</td>\n",
       "      <td>0</td>\n",
       "      <td>STON/O2. 3101282</td>\n",
       "      <td>7.9250</td>\n",
       "      <td>NaN</td>\n",
       "      <td>S</td>\n",
       "    </tr>\n",
       "    <tr>\n",
       "      <th>4</th>\n",
       "      <td>1</td>\n",
       "      <td>1</td>\n",
       "      <td>Futrelle, Mrs. Jacques Heath (Lily May Peel)</td>\n",
       "      <td>female</td>\n",
       "      <td>35.0</td>\n",
       "      <td>1</td>\n",
       "      <td>0</td>\n",
       "      <td>113803</td>\n",
       "      <td>53.1000</td>\n",
       "      <td>C123</td>\n",
       "      <td>S</td>\n",
       "    </tr>\n",
       "    <tr>\n",
       "      <th>5</th>\n",
       "      <td>0</td>\n",
       "      <td>3</td>\n",
       "      <td>Allen, Mr. William Henry</td>\n",
       "      <td>male</td>\n",
       "      <td>35.0</td>\n",
       "      <td>0</td>\n",
       "      <td>0</td>\n",
       "      <td>373450</td>\n",
       "      <td>8.0500</td>\n",
       "      <td>NaN</td>\n",
       "      <td>S</td>\n",
       "    </tr>\n",
       "  </tbody>\n",
       "</table>\n",
       "</div>"
      ],
      "text/plain": [
       "             Survived  Pclass  \\\n",
       "PassengerId                     \n",
       "1                   0       3   \n",
       "2                   1       1   \n",
       "3                   1       3   \n",
       "4                   1       1   \n",
       "5                   0       3   \n",
       "\n",
       "                                                          Name     Sex   Age  \\\n",
       "PassengerId                                                                    \n",
       "1                                      Braund, Mr. Owen Harris    male  22.0   \n",
       "2            Cumings, Mrs. John Bradley (Florence Briggs Th...  female  38.0   \n",
       "3                                       Heikkinen, Miss. Laina  female  26.0   \n",
       "4                 Futrelle, Mrs. Jacques Heath (Lily May Peel)  female  35.0   \n",
       "5                                     Allen, Mr. William Henry    male  35.0   \n",
       "\n",
       "             SibSp  Parch            Ticket     Fare Cabin Embarked  \n",
       "PassengerId                                                          \n",
       "1                1      0         A/5 21171   7.2500   NaN        S  \n",
       "2                1      0          PC 17599  71.2833   C85        C  \n",
       "3                0      0  STON/O2. 3101282   7.9250   NaN        S  \n",
       "4                1      0            113803  53.1000  C123        S  \n",
       "5                0      0            373450   8.0500   NaN        S  "
      ]
     },
     "execution_count": 2,
     "metadata": {},
     "output_type": "execute_result"
    }
   ],
   "source": [
    "raw_data = pd.read_csv('/kaggle/input/titanic/train.csv', index_col='PassengerId')\n",
    "raw_data.head()"
   ]
  },
  {
   "cell_type": "code",
   "execution_count": 3,
   "id": "240114d2",
   "metadata": {
    "execution": {
     "iopub.execute_input": "2024-11-03T06:33:08.716112Z",
     "iopub.status.busy": "2024-11-03T06:33:08.715122Z",
     "iopub.status.idle": "2024-11-03T06:33:08.720576Z",
     "shell.execute_reply": "2024-11-03T06:33:08.719537Z"
    },
    "papermill": {
     "duration": 0.036593,
     "end_time": "2024-11-03T06:33:08.723208",
     "exception": false,
     "start_time": "2024-11-03T06:33:08.686615",
     "status": "completed"
    },
    "tags": []
   },
   "outputs": [],
   "source": [
    "exp_data = raw_data.copy()"
   ]
  },
  {
   "cell_type": "markdown",
   "id": "8cf052ed",
   "metadata": {
    "papermill": {
     "duration": 0.026748,
     "end_time": "2024-11-03T06:33:08.777787",
     "exception": false,
     "start_time": "2024-11-03T06:33:08.751039",
     "status": "completed"
    },
    "tags": []
   },
   "source": [
    "# Utils"
   ]
  },
  {
   "cell_type": "markdown",
   "id": "a1f5aafe",
   "metadata": {
    "papermill": {
     "duration": 0.026489,
     "end_time": "2024-11-03T06:33:08.830802",
     "exception": false,
     "start_time": "2024-11-03T06:33:08.804313",
     "status": "completed"
    },
    "tags": []
   },
   "source": [
    "# Exploratory Data Analysis"
   ]
  },
  {
   "cell_type": "code",
   "execution_count": 4,
   "id": "c508dc3f",
   "metadata": {
    "execution": {
     "iopub.execute_input": "2024-11-03T06:33:08.886712Z",
     "iopub.status.busy": "2024-11-03T06:33:08.885692Z",
     "iopub.status.idle": "2024-11-03T06:33:08.934132Z",
     "shell.execute_reply": "2024-11-03T06:33:08.933081Z"
    },
    "papermill": {
     "duration": 0.078849,
     "end_time": "2024-11-03T06:33:08.936576",
     "exception": false,
     "start_time": "2024-11-03T06:33:08.857727",
     "status": "completed"
    },
    "tags": []
   },
   "outputs": [
    {
     "data": {
      "text/html": [
       "<div>\n",
       "<style scoped>\n",
       "    .dataframe tbody tr th:only-of-type {\n",
       "        vertical-align: middle;\n",
       "    }\n",
       "\n",
       "    .dataframe tbody tr th {\n",
       "        vertical-align: top;\n",
       "    }\n",
       "\n",
       "    .dataframe thead th {\n",
       "        text-align: right;\n",
       "    }\n",
       "</style>\n",
       "<table border=\"1\" class=\"dataframe\">\n",
       "  <thead>\n",
       "    <tr style=\"text-align: right;\">\n",
       "      <th></th>\n",
       "      <th>Survived</th>\n",
       "      <th>Pclass</th>\n",
       "      <th>Name</th>\n",
       "      <th>Sex</th>\n",
       "      <th>Age</th>\n",
       "      <th>SibSp</th>\n",
       "      <th>Parch</th>\n",
       "      <th>Ticket</th>\n",
       "      <th>Fare</th>\n",
       "      <th>Cabin</th>\n",
       "      <th>Embarked</th>\n",
       "    </tr>\n",
       "  </thead>\n",
       "  <tbody>\n",
       "    <tr>\n",
       "      <th>count</th>\n",
       "      <td>891.000000</td>\n",
       "      <td>891.000000</td>\n",
       "      <td>891</td>\n",
       "      <td>891</td>\n",
       "      <td>714.000000</td>\n",
       "      <td>891.000000</td>\n",
       "      <td>891.000000</td>\n",
       "      <td>891</td>\n",
       "      <td>891.000000</td>\n",
       "      <td>204</td>\n",
       "      <td>889</td>\n",
       "    </tr>\n",
       "    <tr>\n",
       "      <th>unique</th>\n",
       "      <td>NaN</td>\n",
       "      <td>NaN</td>\n",
       "      <td>891</td>\n",
       "      <td>2</td>\n",
       "      <td>NaN</td>\n",
       "      <td>NaN</td>\n",
       "      <td>NaN</td>\n",
       "      <td>681</td>\n",
       "      <td>NaN</td>\n",
       "      <td>147</td>\n",
       "      <td>3</td>\n",
       "    </tr>\n",
       "    <tr>\n",
       "      <th>top</th>\n",
       "      <td>NaN</td>\n",
       "      <td>NaN</td>\n",
       "      <td>Braund, Mr. Owen Harris</td>\n",
       "      <td>male</td>\n",
       "      <td>NaN</td>\n",
       "      <td>NaN</td>\n",
       "      <td>NaN</td>\n",
       "      <td>347082</td>\n",
       "      <td>NaN</td>\n",
       "      <td>B96 B98</td>\n",
       "      <td>S</td>\n",
       "    </tr>\n",
       "    <tr>\n",
       "      <th>freq</th>\n",
       "      <td>NaN</td>\n",
       "      <td>NaN</td>\n",
       "      <td>1</td>\n",
       "      <td>577</td>\n",
       "      <td>NaN</td>\n",
       "      <td>NaN</td>\n",
       "      <td>NaN</td>\n",
       "      <td>7</td>\n",
       "      <td>NaN</td>\n",
       "      <td>4</td>\n",
       "      <td>644</td>\n",
       "    </tr>\n",
       "    <tr>\n",
       "      <th>mean</th>\n",
       "      <td>0.383838</td>\n",
       "      <td>2.308642</td>\n",
       "      <td>NaN</td>\n",
       "      <td>NaN</td>\n",
       "      <td>29.699118</td>\n",
       "      <td>0.523008</td>\n",
       "      <td>0.381594</td>\n",
       "      <td>NaN</td>\n",
       "      <td>32.204208</td>\n",
       "      <td>NaN</td>\n",
       "      <td>NaN</td>\n",
       "    </tr>\n",
       "    <tr>\n",
       "      <th>std</th>\n",
       "      <td>0.486592</td>\n",
       "      <td>0.836071</td>\n",
       "      <td>NaN</td>\n",
       "      <td>NaN</td>\n",
       "      <td>14.526497</td>\n",
       "      <td>1.102743</td>\n",
       "      <td>0.806057</td>\n",
       "      <td>NaN</td>\n",
       "      <td>49.693429</td>\n",
       "      <td>NaN</td>\n",
       "      <td>NaN</td>\n",
       "    </tr>\n",
       "    <tr>\n",
       "      <th>min</th>\n",
       "      <td>0.000000</td>\n",
       "      <td>1.000000</td>\n",
       "      <td>NaN</td>\n",
       "      <td>NaN</td>\n",
       "      <td>0.420000</td>\n",
       "      <td>0.000000</td>\n",
       "      <td>0.000000</td>\n",
       "      <td>NaN</td>\n",
       "      <td>0.000000</td>\n",
       "      <td>NaN</td>\n",
       "      <td>NaN</td>\n",
       "    </tr>\n",
       "    <tr>\n",
       "      <th>25%</th>\n",
       "      <td>0.000000</td>\n",
       "      <td>2.000000</td>\n",
       "      <td>NaN</td>\n",
       "      <td>NaN</td>\n",
       "      <td>20.125000</td>\n",
       "      <td>0.000000</td>\n",
       "      <td>0.000000</td>\n",
       "      <td>NaN</td>\n",
       "      <td>7.910400</td>\n",
       "      <td>NaN</td>\n",
       "      <td>NaN</td>\n",
       "    </tr>\n",
       "    <tr>\n",
       "      <th>50%</th>\n",
       "      <td>0.000000</td>\n",
       "      <td>3.000000</td>\n",
       "      <td>NaN</td>\n",
       "      <td>NaN</td>\n",
       "      <td>28.000000</td>\n",
       "      <td>0.000000</td>\n",
       "      <td>0.000000</td>\n",
       "      <td>NaN</td>\n",
       "      <td>14.454200</td>\n",
       "      <td>NaN</td>\n",
       "      <td>NaN</td>\n",
       "    </tr>\n",
       "    <tr>\n",
       "      <th>75%</th>\n",
       "      <td>1.000000</td>\n",
       "      <td>3.000000</td>\n",
       "      <td>NaN</td>\n",
       "      <td>NaN</td>\n",
       "      <td>38.000000</td>\n",
       "      <td>1.000000</td>\n",
       "      <td>0.000000</td>\n",
       "      <td>NaN</td>\n",
       "      <td>31.000000</td>\n",
       "      <td>NaN</td>\n",
       "      <td>NaN</td>\n",
       "    </tr>\n",
       "    <tr>\n",
       "      <th>max</th>\n",
       "      <td>1.000000</td>\n",
       "      <td>3.000000</td>\n",
       "      <td>NaN</td>\n",
       "      <td>NaN</td>\n",
       "      <td>80.000000</td>\n",
       "      <td>8.000000</td>\n",
       "      <td>6.000000</td>\n",
       "      <td>NaN</td>\n",
       "      <td>512.329200</td>\n",
       "      <td>NaN</td>\n",
       "      <td>NaN</td>\n",
       "    </tr>\n",
       "  </tbody>\n",
       "</table>\n",
       "</div>"
      ],
      "text/plain": [
       "          Survived      Pclass                     Name   Sex         Age  \\\n",
       "count   891.000000  891.000000                      891   891  714.000000   \n",
       "unique         NaN         NaN                      891     2         NaN   \n",
       "top            NaN         NaN  Braund, Mr. Owen Harris  male         NaN   \n",
       "freq           NaN         NaN                        1   577         NaN   \n",
       "mean      0.383838    2.308642                      NaN   NaN   29.699118   \n",
       "std       0.486592    0.836071                      NaN   NaN   14.526497   \n",
       "min       0.000000    1.000000                      NaN   NaN    0.420000   \n",
       "25%       0.000000    2.000000                      NaN   NaN   20.125000   \n",
       "50%       0.000000    3.000000                      NaN   NaN   28.000000   \n",
       "75%       1.000000    3.000000                      NaN   NaN   38.000000   \n",
       "max       1.000000    3.000000                      NaN   NaN   80.000000   \n",
       "\n",
       "             SibSp       Parch  Ticket        Fare    Cabin Embarked  \n",
       "count   891.000000  891.000000     891  891.000000      204      889  \n",
       "unique         NaN         NaN     681         NaN      147        3  \n",
       "top            NaN         NaN  347082         NaN  B96 B98        S  \n",
       "freq           NaN         NaN       7         NaN        4      644  \n",
       "mean      0.523008    0.381594     NaN   32.204208      NaN      NaN  \n",
       "std       1.102743    0.806057     NaN   49.693429      NaN      NaN  \n",
       "min       0.000000    0.000000     NaN    0.000000      NaN      NaN  \n",
       "25%       0.000000    0.000000     NaN    7.910400      NaN      NaN  \n",
       "50%       0.000000    0.000000     NaN   14.454200      NaN      NaN  \n",
       "75%       1.000000    0.000000     NaN   31.000000      NaN      NaN  \n",
       "max       8.000000    6.000000     NaN  512.329200      NaN      NaN  "
      ]
     },
     "execution_count": 4,
     "metadata": {},
     "output_type": "execute_result"
    }
   ],
   "source": [
    "exp_data.describe(include='all')"
   ]
  },
  {
   "cell_type": "code",
   "execution_count": 5,
   "id": "be79658e",
   "metadata": {
    "execution": {
     "iopub.execute_input": "2024-11-03T06:33:08.992822Z",
     "iopub.status.busy": "2024-11-03T06:33:08.992359Z",
     "iopub.status.idle": "2024-11-03T06:33:09.009809Z",
     "shell.execute_reply": "2024-11-03T06:33:09.008820Z"
    },
    "papermill": {
     "duration": 0.048784,
     "end_time": "2024-11-03T06:33:09.012736",
     "exception": false,
     "start_time": "2024-11-03T06:33:08.963952",
     "status": "completed"
    },
    "tags": []
   },
   "outputs": [
    {
     "name": "stdout",
     "output_type": "stream",
     "text": [
      "<class 'pandas.core.frame.DataFrame'>\n",
      "Index: 891 entries, 1 to 891\n",
      "Data columns (total 11 columns):\n",
      " #   Column    Non-Null Count  Dtype  \n",
      "---  ------    --------------  -----  \n",
      " 0   Survived  891 non-null    int64  \n",
      " 1   Pclass    891 non-null    int64  \n",
      " 2   Name      891 non-null    object \n",
      " 3   Sex       891 non-null    object \n",
      " 4   Age       714 non-null    float64\n",
      " 5   SibSp     891 non-null    int64  \n",
      " 6   Parch     891 non-null    int64  \n",
      " 7   Ticket    891 non-null    object \n",
      " 8   Fare      891 non-null    float64\n",
      " 9   Cabin     204 non-null    object \n",
      " 10  Embarked  889 non-null    object \n",
      "dtypes: float64(2), int64(4), object(5)\n",
      "memory usage: 83.5+ KB\n"
     ]
    }
   ],
   "source": [
    "exp_data.info()"
   ]
  },
  {
   "cell_type": "markdown",
   "id": "3b850fe4",
   "metadata": {
    "papermill": {
     "duration": 0.027025,
     "end_time": "2024-11-03T06:33:09.066730",
     "exception": false,
     "start_time": "2024-11-03T06:33:09.039705",
     "status": "completed"
    },
    "tags": []
   },
   "source": [
    "## Missing values"
   ]
  },
  {
   "cell_type": "code",
   "execution_count": 6,
   "id": "511a2042",
   "metadata": {
    "execution": {
     "iopub.execute_input": "2024-11-03T06:33:09.122245Z",
     "iopub.status.busy": "2024-11-03T06:33:09.121821Z",
     "iopub.status.idle": "2024-11-03T06:33:09.131319Z",
     "shell.execute_reply": "2024-11-03T06:33:09.130348Z"
    },
    "papermill": {
     "duration": 0.039619,
     "end_time": "2024-11-03T06:33:09.133508",
     "exception": false,
     "start_time": "2024-11-03T06:33:09.093889",
     "status": "completed"
    },
    "tags": []
   },
   "outputs": [
    {
     "data": {
      "text/plain": [
       "Survived      0\n",
       "Pclass        0\n",
       "Name          0\n",
       "Sex           0\n",
       "Age         177\n",
       "SibSp         0\n",
       "Parch         0\n",
       "Ticket        0\n",
       "Fare          0\n",
       "Cabin       687\n",
       "Embarked      2\n",
       "dtype: int64"
      ]
     },
     "execution_count": 6,
     "metadata": {},
     "output_type": "execute_result"
    }
   ],
   "source": [
    "exp_data.isna().sum()"
   ]
  },
  {
   "cell_type": "markdown",
   "id": "c649895d",
   "metadata": {
    "papermill": {
     "duration": 0.026964,
     "end_time": "2024-11-03T06:33:09.187974",
     "exception": false,
     "start_time": "2024-11-03T06:33:09.161010",
     "status": "completed"
    },
    "tags": []
   },
   "source": [
    "Imputation technique:\n",
    "\n",
    "* Age: This variable will be predicted using a model later after engineering the features to increase dataset performance\n",
    "\n",
    "* Cabin: The 'Cabin' feature will soon be broken down into 'Deck' feature containing the first letter of the Cabin (e.g. A, B, C, etc.). Missing values will be denoted as 'M' (missing) category since missing can indicate the survival rate of the passenger\n",
    "\n",
    "* Embarked: Based on research, the 2 passengers with missing 'Embarked' values embarked from 'S' (Southampton)"
   ]
  },
  {
   "cell_type": "markdown",
   "id": "d8eba02c",
   "metadata": {
    "papermill": {
     "duration": 0.027569,
     "end_time": "2024-11-03T06:33:09.243826",
     "exception": false,
     "start_time": "2024-11-03T06:33:09.216257",
     "status": "completed"
    },
    "tags": []
   },
   "source": [
    "### Cabin"
   ]
  },
  {
   "cell_type": "code",
   "execution_count": 7,
   "id": "a5b4f00a",
   "metadata": {
    "execution": {
     "iopub.execute_input": "2024-11-03T06:33:09.301177Z",
     "iopub.status.busy": "2024-11-03T06:33:09.300736Z",
     "iopub.status.idle": "2024-11-03T06:33:09.311106Z",
     "shell.execute_reply": "2024-11-03T06:33:09.309981Z"
    },
    "papermill": {
     "duration": 0.041909,
     "end_time": "2024-11-03T06:33:09.313546",
     "exception": false,
     "start_time": "2024-11-03T06:33:09.271637",
     "status": "completed"
    },
    "tags": []
   },
   "outputs": [
    {
     "data": {
      "text/plain": [
       "array(['M', 'C', 'E', 'G', 'D', 'A', 'B', 'F', 'T'], dtype=object)"
      ]
     },
     "execution_count": 7,
     "metadata": {},
     "output_type": "execute_result"
    }
   ],
   "source": [
    "exp_data['Deck'] = exp_data['Cabin'].str[0]\n",
    "exp_data['Deck'] = exp_data['Deck'].fillna('M')\n",
    "exp_data['Deck'].unique()"
   ]
  },
  {
   "cell_type": "code",
   "execution_count": 8,
   "id": "6c7012ca",
   "metadata": {
    "execution": {
     "iopub.execute_input": "2024-11-03T06:33:09.371420Z",
     "iopub.status.busy": "2024-11-03T06:33:09.370982Z",
     "iopub.status.idle": "2024-11-03T06:33:09.390337Z",
     "shell.execute_reply": "2024-11-03T06:33:09.389273Z"
    },
    "papermill": {
     "duration": 0.051276,
     "end_time": "2024-11-03T06:33:09.392869",
     "exception": false,
     "start_time": "2024-11-03T06:33:09.341593",
     "status": "completed"
    },
    "tags": []
   },
   "outputs": [],
   "source": [
    "deck_percentage_pclass = ((exp_data.groupby('Pclass')['Deck']\n",
    "                   .value_counts()*100/exp_data['Deck'].value_counts())\n",
    "                   .unstack()\n",
    "                   .fillna(0))"
   ]
  },
  {
   "cell_type": "code",
   "execution_count": 9,
   "id": "0c10c932",
   "metadata": {
    "execution": {
     "iopub.execute_input": "2024-11-03T06:33:09.450337Z",
     "iopub.status.busy": "2024-11-03T06:33:09.449898Z",
     "iopub.status.idle": "2024-11-03T06:33:09.856123Z",
     "shell.execute_reply": "2024-11-03T06:33:09.854971Z"
    },
    "papermill": {
     "duration": 0.438221,
     "end_time": "2024-11-03T06:33:09.858509",
     "exception": false,
     "start_time": "2024-11-03T06:33:09.420288",
     "status": "completed"
    },
    "tags": []
   },
   "outputs": [
    {
     "data": {
      "image/png": "[encoded data removed]",
      "text/plain": [
       "<Figure size 1000x600 with 1 Axes>"
      ]
     },
     "metadata": {},
     "output_type": "display_data"
    }
   ],
   "source": [
    "deck_percentage_pclass.T.plot(kind='bar', stacked=True, color=['red', 'green', 'blue'], figsize=(10, 6))\n",
    "plt.title('Percentage of Pclass by Deck')\n",
    "plt.xlabel('Deck')\n",
    "plt.ylabel('Percentage (%)')\n",
    "plt.legend(['1st Class', '2nd Class', '3rd Class'], title='Pclass', loc='upper left')\n",
    "plt.show()"
   ]
  },
  {
   "cell_type": "markdown",
   "id": "948346ba",
   "metadata": {
    "papermill": {
     "duration": 0.028655,
     "end_time": "2024-11-03T06:33:09.916042",
     "exception": false,
     "start_time": "2024-11-03T06:33:09.887387",
     "status": "completed"
    },
    "tags": []
   },
   "source": [
    "For the sake of dimensionality reduction, the decks will be categorized into ABC, DE, FG, and M alone.\n",
    "\n",
    "Furthermore, due to similar characteristics, T deck will be included in the ABC category."
   ]
  },
  {
   "cell_type": "code",
   "execution_count": 10,
   "id": "749ce230",
   "metadata": {
    "execution": {
     "iopub.execute_input": "2024-11-03T06:33:09.976651Z",
     "iopub.status.busy": "2024-11-03T06:33:09.975562Z",
     "iopub.status.idle": "2024-11-03T06:33:09.982996Z",
     "shell.execute_reply": "2024-11-03T06:33:09.981996Z"
    },
    "papermill": {
     "duration": 0.040944,
     "end_time": "2024-11-03T06:33:09.985213",
     "exception": false,
     "start_time": "2024-11-03T06:33:09.944269",
     "status": "completed"
    },
    "tags": []
   },
   "outputs": [],
   "source": [
    "deck_map = {\n",
    "    'A': 'ABC',\n",
    "    'B': 'ABC',\n",
    "    'C': 'ABC',\n",
    "    'T': 'ABC',\n",
    "    'D': 'DE',\n",
    "    'E': 'DE',\n",
    "    'F': 'FG',\n",
    "    'G': 'FG',\n",
    "    'M': 'M'\n",
    "}\n",
    "\n",
    "exp_data['Deck'] = exp_data['Deck'].map(deck_map)"
   ]
  },
  {
   "cell_type": "code",
   "execution_count": 11,
   "id": "7fc661bc",
   "metadata": {
    "execution": {
     "iopub.execute_input": "2024-11-03T06:33:10.044148Z",
     "iopub.status.busy": "2024-11-03T06:33:10.043385Z",
     "iopub.status.idle": "2024-11-03T06:33:10.055754Z",
     "shell.execute_reply": "2024-11-03T06:33:10.054679Z"
    },
    "papermill": {
     "duration": 0.044293,
     "end_time": "2024-11-03T06:33:10.058184",
     "exception": false,
     "start_time": "2024-11-03T06:33:10.013891",
     "status": "completed"
    },
    "tags": []
   },
   "outputs": [],
   "source": [
    "deck_percentage_pclass = ((exp_data.groupby('Pclass')['Deck']\n",
    "                   .value_counts()*100/exp_data['Deck'].value_counts())\n",
    "                   .unstack()\n",
    "                   .fillna(0))"
   ]
  },
  {
   "cell_type": "code",
   "execution_count": 12,
   "id": "4f894533",
   "metadata": {
    "execution": {
     "iopub.execute_input": "2024-11-03T06:33:10.117850Z",
     "iopub.status.busy": "2024-11-03T06:33:10.117074Z",
     "iopub.status.idle": "2024-11-03T06:33:10.446750Z",
     "shell.execute_reply": "2024-11-03T06:33:10.445848Z"
    },
    "papermill": {
     "duration": 0.362205,
     "end_time": "2024-11-03T06:33:10.449081",
     "exception": false,
     "start_time": "2024-11-03T06:33:10.086876",
     "status": "completed"
    },
    "tags": []
   },
   "outputs": [
    {
     "data": {
      "image/png": "[encoded data removed]",
      "text/plain": [
       "<Figure size 1000x600 with 1 Axes>"
      ]
     },
     "metadata": {},
     "output_type": "display_data"
    }
   ],
   "source": [
    "deck_percentage_pclass.T.plot(kind='bar', stacked=True, color=['red', 'green', 'blue'], figsize=(10, 6))\n",
    "plt.title('Percentage of Pclass by Deck')\n",
    "plt.xlabel('Deck')\n",
    "plt.ylabel('Percentage (%)')\n",
    "plt.legend(['1st Class', '2nd Class', '3rd Class'], title='Pclass', loc='upper left')\n",
    "plt.show()"
   ]
  },
  {
   "cell_type": "code",
   "execution_count": 13,
   "id": "77465aec",
   "metadata": {
    "execution": {
     "iopub.execute_input": "2024-11-03T06:33:10.510825Z",
     "iopub.status.busy": "2024-11-03T06:33:10.510387Z",
     "iopub.status.idle": "2024-11-03T06:33:10.516905Z",
     "shell.execute_reply": "2024-11-03T06:33:10.515801Z"
    },
    "papermill": {
     "duration": 0.040488,
     "end_time": "2024-11-03T06:33:10.519220",
     "exception": false,
     "start_time": "2024-11-03T06:33:10.478732",
     "status": "completed"
    },
    "tags": []
   },
   "outputs": [],
   "source": [
    "exp_data = exp_data.drop('Cabin', axis=1)"
   ]
  },
  {
   "cell_type": "markdown",
   "id": "24c403a0",
   "metadata": {
    "papermill": {
     "duration": 0.029158,
     "end_time": "2024-11-03T06:33:10.577928",
     "exception": false,
     "start_time": "2024-11-03T06:33:10.548770",
     "status": "completed"
    },
    "tags": []
   },
   "source": [
    "### Embarked"
   ]
  },
  {
   "cell_type": "markdown",
   "id": "3be1e4fb",
   "metadata": {
    "papermill": {
     "duration": 0.029312,
     "end_time": "2024-11-03T06:33:10.636330",
     "exception": false,
     "start_time": "2024-11-03T06:33:10.607018",
     "status": "completed"
    },
    "tags": []
   },
   "source": [
    "I read [gunesevitan's notebook](https://www.kaggle.com/code/gunesevitan/titanic-advanced-feature-engineering-tutorial#1.-Exploratory-Data-Analysis) and found this useful information about the 2 passengers with missing 'Embarked' values.\n",
    "\n",
    "\n",
    "\n",
    "> *When I googled Stone, Mrs. George Nelson (Martha Evelyn), I found that she embarked from S (Southampton) with her maid Amelie Icard, in this page Martha Evelyn Stone: Titanic Survivor.*\n",
    "\n",
    "> \n",
    "\n",
    "> > ***Mrs Stone boarded the Titanic in Southampton on 10 April 1912 and was travelling in first class with her maid Amelie Icard. She occupied cabin B-28.***\n",
    "\n",
    "\n",
    "\n",
    "Therefore, missing values in embarked will be filled with 'S'."
   ]
  },
  {
   "cell_type": "code",
   "execution_count": 14,
   "id": "229cb359",
   "metadata": {
    "execution": {
     "iopub.execute_input": "2024-11-03T06:33:10.696659Z",
     "iopub.status.busy": "2024-11-03T06:33:10.696200Z",
     "iopub.status.idle": "2024-11-03T06:33:10.702996Z",
     "shell.execute_reply": "2024-11-03T06:33:10.701947Z"
    },
    "papermill": {
     "duration": 0.040389,
     "end_time": "2024-11-03T06:33:10.705509",
     "exception": false,
     "start_time": "2024-11-03T06:33:10.665120",
     "status": "completed"
    },
    "tags": []
   },
   "outputs": [],
   "source": [
    "exp_data['Embarked'] = exp_data['Embarked'].fillna('S')"
   ]
  },
  {
   "cell_type": "code",
   "execution_count": 15,
   "id": "a63f240b",
   "metadata": {
    "execution": {
     "iopub.execute_input": "2024-11-03T06:33:10.765719Z",
     "iopub.status.busy": "2024-11-03T06:33:10.765236Z",
     "iopub.status.idle": "2024-11-03T06:33:10.771122Z",
     "shell.execute_reply": "2024-11-03T06:33:10.770111Z"
    },
    "papermill": {
     "duration": 0.038555,
     "end_time": "2024-11-03T06:33:10.773500",
     "exception": false,
     "start_time": "2024-11-03T06:33:10.734945",
     "status": "completed"
    },
    "tags": []
   },
   "outputs": [],
   "source": [
    "exp2_data = exp_data.copy()"
   ]
  },
  {
   "cell_type": "code",
   "execution_count": 16,
   "id": "72e765aa",
   "metadata": {
    "execution": {
     "iopub.execute_input": "2024-11-03T06:33:10.832464Z",
     "iopub.status.busy": "2024-11-03T06:33:10.831612Z",
     "iopub.status.idle": "2024-11-03T06:33:10.843798Z",
     "shell.execute_reply": "2024-11-03T06:33:10.842826Z"
    },
    "papermill": {
     "duration": 0.044347,
     "end_time": "2024-11-03T06:33:10.846060",
     "exception": false,
     "start_time": "2024-11-03T06:33:10.801713",
     "status": "completed"
    },
    "tags": []
   },
   "outputs": [
    {
     "name": "stdout",
     "output_type": "stream",
     "text": [
      "<class 'pandas.core.frame.DataFrame'>\n",
      "Index: 891 entries, 1 to 891\n",
      "Data columns (total 11 columns):\n",
      " #   Column    Non-Null Count  Dtype  \n",
      "---  ------    --------------  -----  \n",
      " 0   Survived  891 non-null    int64  \n",
      " 1   Pclass    891 non-null    int64  \n",
      " 2   Name      891 non-null    object \n",
      " 3   Sex       891 non-null    object \n",
      " 4   Age       714 non-null    float64\n",
      " 5   SibSp     891 non-null    int64  \n",
      " 6   Parch     891 non-null    int64  \n",
      " 7   Ticket    891 non-null    object \n",
      " 8   Fare      891 non-null    float64\n",
      " 9   Embarked  891 non-null    object \n",
      " 10  Deck      891 non-null    object \n",
      "dtypes: float64(2), int64(4), object(5)\n",
      "memory usage: 83.5+ KB\n"
     ]
    }
   ],
   "source": [
    "exp2_data.info()"
   ]
  },
  {
   "cell_type": "markdown",
   "id": "8c1aa027",
   "metadata": {
    "papermill": {
     "duration": 0.027426,
     "end_time": "2024-11-03T06:33:10.902214",
     "exception": false,
     "start_time": "2024-11-03T06:33:10.874788",
     "status": "completed"
    },
    "tags": []
   },
   "source": [
    "## Target distribution"
   ]
  },
  {
   "cell_type": "code",
   "execution_count": 17,
   "id": "b4c10c82",
   "metadata": {
    "execution": {
     "iopub.execute_input": "2024-11-03T06:33:10.971380Z",
     "iopub.status.busy": "2024-11-03T06:33:10.970797Z",
     "iopub.status.idle": "2024-11-03T06:33:10.978819Z",
     "shell.execute_reply": "2024-11-03T06:33:10.977465Z"
    },
    "papermill": {
     "duration": 0.051074,
     "end_time": "2024-11-03T06:33:10.983456",
     "exception": false,
     "start_time": "2024-11-03T06:33:10.932382",
     "status": "completed"
    },
    "tags": []
   },
   "outputs": [],
   "source": [
    "features = exp2_data.drop('Survived', axis=1)"
   ]
  },
  {
   "cell_type": "markdown",
   "id": "de34637e",
   "metadata": {
    "papermill": {
     "duration": 0.028085,
     "end_time": "2024-11-03T06:33:11.041584",
     "exception": false,
     "start_time": "2024-11-03T06:33:11.013499",
     "status": "completed"
    },
    "tags": []
   },
   "source": [
    "### Numerical features"
   ]
  },
  {
   "cell_type": "code",
   "execution_count": 18,
   "id": "2c15d430",
   "metadata": {
    "execution": {
     "iopub.execute_input": "2024-11-03T06:33:11.115370Z",
     "iopub.status.busy": "2024-11-03T06:33:11.114507Z",
     "iopub.status.idle": "2024-11-03T06:33:11.123932Z",
     "shell.execute_reply": "2024-11-03T06:33:11.122752Z"
    },
    "papermill": {
     "duration": 0.052793,
     "end_time": "2024-11-03T06:33:11.126740",
     "exception": false,
     "start_time": "2024-11-03T06:33:11.073947",
     "status": "completed"
    },
    "tags": []
   },
   "outputs": [
    {
     "data": {
      "text/plain": [
       "Index(['Age', 'Fare'], dtype='object')"
      ]
     },
     "execution_count": 18,
     "metadata": {},
     "output_type": "execute_result"
    }
   ],
   "source": [
    "numerical_features = features.select_dtypes(['float64']).columns\n",
    "numerical_features"
   ]
  },
  {
   "cell_type": "code",
   "execution_count": 19,
   "id": "553e6bf4",
   "metadata": {
    "execution": {
     "iopub.execute_input": "2024-11-03T06:33:11.202372Z",
     "iopub.status.busy": "2024-11-03T06:33:11.201439Z",
     "iopub.status.idle": "2024-11-03T06:33:11.206868Z",
     "shell.execute_reply": "2024-11-03T06:33:11.205841Z"
    },
    "papermill": {
     "duration": 0.044817,
     "end_time": "2024-11-03T06:33:11.209254",
     "exception": false,
     "start_time": "2024-11-03T06:33:11.164437",
     "status": "completed"
    },
    "tags": []
   },
   "outputs": [],
   "source": [
    "survived = exp2_data['Survived'] == 1"
   ]
  },
  {
   "cell_type": "code",
   "execution_count": 20,
   "id": "b6a965b5",
   "metadata": {
    "execution": {
     "iopub.execute_input": "2024-11-03T06:33:11.270826Z",
     "iopub.status.busy": "2024-11-03T06:33:11.270232Z",
     "iopub.status.idle": "2024-11-03T06:33:12.630708Z",
     "shell.execute_reply": "2024-11-03T06:33:12.629520Z"
    },
    "papermill": {
     "duration": 1.395957,
     "end_time": "2024-11-03T06:33:12.633885",
     "exception": false,
     "start_time": "2024-11-03T06:33:11.237928",
     "status": "completed"
    },
    "tags": []
   },
   "outputs": [
    {
     "name": "stderr",
     "output_type": "stream",
     "text": [
      "/opt/conda/lib/python3.10/site-packages/seaborn/_oldcore.py:1119: FutureWarning: use_inf_as_na option is deprecated and will be removed in a future version. Convert inf values to NaN before operating instead.\n",
      "  with pd.option_context('mode.use_inf_as_na', True):\n",
      "/opt/conda/lib/python3.10/site-packages/seaborn/_oldcore.py:1119: FutureWarning: use_inf_as_na option is deprecated and will be removed in a future version. Convert inf values to NaN before operating instead.\n",
      "  with pd.option_context('mode.use_inf_as_na', True):\n",
      "/opt/conda/lib/python3.10/site-packages/seaborn/_oldcore.py:1075: FutureWarning: When grouping with a length-1 list-like, you will need to pass a length-1 tuple to get_group in a future version of pandas. Pass `(name,)` instead of `name` to silence this warning.\n",
      "  data_subset = grouped_data.get_group(pd_key)\n",
      "/opt/conda/lib/python3.10/site-packages/seaborn/_oldcore.py:1075: FutureWarning: When grouping with a length-1 list-like, you will need to pass a length-1 tuple to get_group in a future version of pandas. Pass `(name,)` instead of `name` to silence this warning.\n",
      "  data_subset = grouped_data.get_group(pd_key)\n",
      "/opt/conda/lib/python3.10/site-packages/seaborn/_oldcore.py:1075: FutureWarning: When grouping with a length-1 list-like, you will need to pass a length-1 tuple to get_group in a future version of pandas. Pass `(name,)` instead of `name` to silence this warning.\n",
      "  data_subset = grouped_data.get_group(pd_key)\n",
      "/opt/conda/lib/python3.10/site-packages/seaborn/_oldcore.py:1119: FutureWarning: use_inf_as_na option is deprecated and will be removed in a future version. Convert inf values to NaN before operating instead.\n",
      "  with pd.option_context('mode.use_inf_as_na', True):\n",
      "/opt/conda/lib/python3.10/site-packages/seaborn/_oldcore.py:1075: FutureWarning: When grouping with a length-1 list-like, you will need to pass a length-1 tuple to get_group in a future version of pandas. Pass `(name,)` instead of `name` to silence this warning.\n",
      "  data_subset = grouped_data.get_group(pd_key)\n",
      "/opt/conda/lib/python3.10/site-packages/seaborn/_oldcore.py:1119: FutureWarning: use_inf_as_na option is deprecated and will be removed in a future version. Convert inf values to NaN before operating instead.\n",
      "  with pd.option_context('mode.use_inf_as_na', True):\n",
      "/opt/conda/lib/python3.10/site-packages/seaborn/_oldcore.py:1075: FutureWarning: When grouping with a length-1 list-like, you will need to pass a length-1 tuple to get_group in a future version of pandas. Pass `(name,)` instead of `name` to silence this warning.\n",
      "  data_subset = grouped_data.get_group(pd_key)\n"
     ]
    },
    {
     "data": {
      "text/plain": [
       "<seaborn.axisgrid.JointGrid at 0x7d8dd4024850>"
      ]
     },
     "execution_count": 20,
     "metadata": {},
     "output_type": "execute_result"
    },
    {
     "data": {
      "image/png": "[encoded data removed]",
      "text/plain": [
       "<Figure size 600x600 with 3 Axes>"
      ]
     },
     "metadata": {},
     "output_type": "display_data"
    }
   ],
   "source": [
    "sns.jointplot(x='Age', y='Fare', hue='Survived', data=exp2_data, kind=\"kde\")"
   ]
  },
  {
   "cell_type": "markdown",
   "id": "c6b2ab15",
   "metadata": {
    "papermill": {
     "duration": 0.030338,
     "end_time": "2024-11-03T06:33:12.694764",
     "exception": false,
     "start_time": "2024-11-03T06:33:12.664426",
     "status": "completed"
    },
    "tags": []
   },
   "source": [
    "### Categorical features"
   ]
  },
  {
   "cell_type": "code",
   "execution_count": 21,
   "id": "9161c2b4",
   "metadata": {
    "execution": {
     "iopub.execute_input": "2024-11-03T06:33:12.758880Z",
     "iopub.status.busy": "2024-11-03T06:33:12.758437Z",
     "iopub.status.idle": "2024-11-03T06:33:12.767069Z",
     "shell.execute_reply": "2024-11-03T06:33:12.765980Z"
    },
    "papermill": {
     "duration": 0.043516,
     "end_time": "2024-11-03T06:33:12.769632",
     "exception": false,
     "start_time": "2024-11-03T06:33:12.726116",
     "status": "completed"
    },
    "tags": []
   },
   "outputs": [
    {
     "data": {
      "text/plain": [
       "['Embarked', 'Parch', 'SibSp', 'Deck', 'Pclass', 'Sex']"
      ]
     },
     "execution_count": 21,
     "metadata": {},
     "output_type": "execute_result"
    }
   ],
   "source": [
    "categorical_features = list(set(features.select_dtypes(['int64','object']).columns) - set(['Name','Ticket']))\n",
    "categorical_features"
   ]
  },
  {
   "cell_type": "code",
   "execution_count": 22,
   "id": "e62fb267",
   "metadata": {
    "execution": {
     "iopub.execute_input": "2024-11-03T06:33:12.833521Z",
     "iopub.status.busy": "2024-11-03T06:33:12.832699Z",
     "iopub.status.idle": "2024-11-03T06:33:14.868983Z",
     "shell.execute_reply": "2024-11-03T06:33:14.867867Z"
    },
    "papermill": {
     "duration": 2.071739,
     "end_time": "2024-11-03T06:33:14.872086",
     "exception": false,
     "start_time": "2024-11-03T06:33:12.800347",
     "status": "completed"
    },
    "tags": []
   },
   "outputs": [
    {
     "data": {
      "image/png": "[encoded data removed]",
      "text/plain": [
       "<Figure size 1600x1000 with 6 Axes>"
      ]
     },
     "metadata": {},
     "output_type": "display_data"
    }
   ],
   "source": [
    "sns.set(style=\"whitegrid\")\n",
    "\n",
    "# Define number of rows and columns for the subplots grid\n",
    "num_cols = 3  # Number of plots per row\n",
    "num_rows = (len(categorical_features) + num_cols - 1) // num_cols  # Calculate required rows\n",
    "\n",
    "# Create the figure and axis objects for the grid\n",
    "fig, axes = plt.subplots(num_rows, num_cols, figsize=(16, num_rows * 5))\n",
    "\n",
    "# Flatten the axes array for easier indexing\n",
    "axes = axes.flatten()\n",
    "\n",
    "# Create a violin plot for each categorical variable\n",
    "for i, categorical in enumerate(categorical_features):\n",
    "    sns.countplot(x=categorical, hue='Survived', data=exp2_data, ax=axes[i])\n",
    "    axes[i].set_title(categorical)\n",
    "\n",
    "# Hide any unused subplots\n",
    "for j in range(i + 1, len(axes)):\n",
    "    fig.delaxes(axes[j])\n",
    "\n",
    "plt.tight_layout()\n",
    "plt.show()"
   ]
  },
  {
   "cell_type": "code",
   "execution_count": 23,
   "id": "1db20477",
   "metadata": {
    "execution": {
     "iopub.execute_input": "2024-11-03T06:33:14.938970Z",
     "iopub.status.busy": "2024-11-03T06:33:14.938073Z",
     "iopub.status.idle": "2024-11-03T06:33:16.626854Z",
     "shell.execute_reply": "2024-11-03T06:33:16.625703Z"
    },
    "papermill": {
     "duration": 1.725599,
     "end_time": "2024-11-03T06:33:16.629804",
     "exception": false,
     "start_time": "2024-11-03T06:33:14.904205",
     "status": "completed"
    },
    "tags": []
   },
   "outputs": [
    {
     "data": {
      "image/png": "[encoded data removed]",
      "text/plain": [
       "<Figure size 1000x600 with 6 Axes>"
      ]
     },
     "metadata": {},
     "output_type": "display_data"
    }
   ],
   "source": [
    "sns.set(style=\"whitegrid\")\n",
    "\n",
    "# Define number of rows and columns for the subplots grid\n",
    "num_cols = 3  # Number of plots per row\n",
    "num_rows = (len(categorical_features) + num_cols - 1) // num_cols  # Calculate required rows\n",
    "\n",
    "# Create the figure and axis objects for the grid\n",
    "fig, axes = plt.subplots(num_rows, num_cols, figsize=(16, num_rows * 5))\n",
    "\n",
    "# Flatten the axes array for easier indexing\n",
    "axes = axes.flatten()\n",
    "\n",
    "# Create a violin plot for each categorical variable\n",
    "for i, categorical in enumerate(categorical_features):\n",
    "\n",
    "    percentage_data = ((exp_data.groupby('Survived')[categorical]\n",
    "                   .value_counts()*100/exp_data[categorical].value_counts())\n",
    "                   .unstack()\n",
    "                   .fillna(0))\n",
    "    percentage_data.T.plot(kind='bar', stacked=True, color=['red', 'blue'], figsize=(10, 6), ax=axes[i])\n",
    "    axes[i].set_title(categorical)\n",
    "\n",
    "# Hide any unused subplots\n",
    "for j in range(i + 1, len(axes)):\n",
    "    fig.delaxes(axes[j])\n",
    "\n",
    "plt.tight_layout()\n",
    "plt.show()"
   ]
  },
  {
   "cell_type": "markdown",
   "id": "cd41c81b",
   "metadata": {
    "papermill": {
     "duration": 0.033554,
     "end_time": "2024-11-03T06:33:16.695912",
     "exception": false,
     "start_time": "2024-11-03T06:33:16.662358",
     "status": "completed"
    },
    "tags": []
   },
   "source": [
    "# Feature Engineering"
   ]
  },
  {
   "cell_type": "markdown",
   "id": "9cc97827",
   "metadata": {
    "papermill": {
     "duration": 0.032797,
     "end_time": "2024-11-03T06:33:16.762253",
     "exception": false,
     "start_time": "2024-11-03T06:33:16.729456",
     "status": "completed"
    },
    "tags": []
   },
   "source": [
    "## Frequency encoding"
   ]
  },
  {
   "cell_type": "markdown",
   "id": "e31e374f",
   "metadata": {
    "papermill": {
     "duration": 0.032795,
     "end_time": "2024-11-03T06:33:16.827749",
     "exception": false,
     "start_time": "2024-11-03T06:33:16.794954",
     "status": "completed"
    },
    "tags": []
   },
   "source": [
    "### Family-based"
   ]
  },
  {
   "cell_type": "code",
   "execution_count": 24,
   "id": "e1564215",
   "metadata": {
    "execution": {
     "iopub.execute_input": "2024-11-03T06:33:16.895569Z",
     "iopub.status.busy": "2024-11-03T06:33:16.894809Z",
     "iopub.status.idle": "2024-11-03T06:33:16.904399Z",
     "shell.execute_reply": "2024-11-03T06:33:16.903339Z"
    },
    "papermill": {
     "duration": 0.046207,
     "end_time": "2024-11-03T06:33:16.906785",
     "exception": false,
     "start_time": "2024-11-03T06:33:16.860578",
     "status": "completed"
    },
    "tags": []
   },
   "outputs": [],
   "source": [
    "exp2_data['Family_size'] = exp2_data['Parch'] + exp2_data['SibSp'] + 1\n",
    "\n",
    "exp2_data['Family_size'].unique()\n",
    "\n",
    "def categorize_family(member):\n",
    "    if member == 1:\n",
    "        return 'alone'\n",
    "    elif member >= 2 and member <= 5:\n",
    "        return 'small'\n",
    "    elif member >= 6:\n",
    "        return 'big'\n",
    "\n",
    "exp2_data['Family_cat'] = exp2_data['Family_size'].apply(categorize_family)"
   ]
  },
  {
   "cell_type": "markdown",
   "id": "3ebf5228",
   "metadata": {
    "papermill": {
     "duration": 0.033054,
     "end_time": "2024-11-03T06:33:16.973300",
     "exception": false,
     "start_time": "2024-11-03T06:33:16.940246",
     "status": "completed"
    },
    "tags": []
   },
   "source": [
    "### Ticket-based"
   ]
  },
  {
   "cell_type": "code",
   "execution_count": 25,
   "id": "93e2f181",
   "metadata": {
    "execution": {
     "iopub.execute_input": "2024-11-03T06:33:17.044430Z",
     "iopub.status.busy": "2024-11-03T06:33:17.043995Z",
     "iopub.status.idle": "2024-11-03T06:33:17.051983Z",
     "shell.execute_reply": "2024-11-03T06:33:17.051014Z"
    },
    "jupyter": {
     "source_hidden": true
    },
    "papermill": {
     "duration": 0.04569,
     "end_time": "2024-11-03T06:33:17.054288",
     "exception": false,
     "start_time": "2024-11-03T06:33:17.008598",
     "status": "completed"
    },
    "tags": []
   },
   "outputs": [],
   "source": [
    "def extract_ticket(ticket):\n",
    "\n",
    "    non_digit = re.sub('\\d', '', ticket)\n",
    "\n",
    "    if non_digit:\n",
    "\n",
    "        return non_digit\n",
    "\n",
    "    else:\n",
    "\n",
    "        digit = re.search('\\d{1,9}', ticket)\n",
    "\n",
    "        return digit.group() if digit else None\n",
    "\n",
    "    \n",
    "\n",
    "def convert_digit(ticket):\n",
    "\n",
    "    try:\n",
    "\n",
    "        digit = int(ticket)\n",
    "\n",
    "        if len(ticket) >= 6:\n",
    "\n",
    "            return 'big_digit'\n",
    "\n",
    "        else:\n",
    "\n",
    "            return 'small_digit'\n",
    "\n",
    "    except (ValueError, TypeError):\n",
    "\n",
    "        return ticket\n",
    "\n",
    "            \n",
    "\n",
    "# exp2_data['Ticket_extracted'] = exp2_data['Ticket'].apply(extract_ticket).apply(convert_digit)"
   ]
  },
  {
   "cell_type": "code",
   "execution_count": 26,
   "id": "5c4bced9",
   "metadata": {
    "execution": {
     "iopub.execute_input": "2024-11-03T06:33:17.123331Z",
     "iopub.status.busy": "2024-11-03T06:33:17.122898Z",
     "iopub.status.idle": "2024-11-03T06:33:17.131219Z",
     "shell.execute_reply": "2024-11-03T06:33:17.130092Z"
    },
    "jupyter": {
     "source_hidden": true
    },
    "papermill": {
     "duration": 0.045992,
     "end_time": "2024-11-03T06:33:17.133677",
     "exception": false,
     "start_time": "2024-11-03T06:33:17.087685",
     "status": "completed"
    },
    "tags": []
   },
   "outputs": [],
   "source": [
    "ticket_map = {\n",
    "\n",
    "    '_ca': 'C[.]?A[.]?',      # Matches CA or C.A.\n",
    "\n",
    "    '_PC': 'PC',              # Matches PC\n",
    "\n",
    "    '_SOTON': 'SOTON',        # Matches SOTON\n",
    "\n",
    "    '_STON': 'STON',          # Matches STON\n",
    "\n",
    "    '_WC': 'W[.]?[/]?C',      # Matches WC or W/C\n",
    "\n",
    "    '_SC': 'S[.]?C[.]?',      # Matches SC or S.C.\n",
    "\n",
    "    '_A': 'A[.]?',            # Matches A or A.\n",
    "\n",
    "    '_SOC': 'S[.]?O[.]?[/]?C',# Matches SOC or S.O.C.\n",
    "\n",
    "    '_PP': 'PP',              # Matches PP\n",
    "\n",
    "    '_FC': '(F.C.|F.C.C.)',   # Matches F.C. or F.C.C.\n",
    "\n",
    "    '_big_digit': 'big_digit',# Matches Num_6 or Num_7\n",
    "\n",
    "    '_small_digit': 'small_digit', # Matches Num_3, Num_4, or Num_5\n",
    "\n",
    "    'rare': '^[^_]',          # Matches anything not starting with _\n",
    "\n",
    "}\n",
    "\n",
    "\n",
    "\n",
    "def map_ticket(ticket):\n",
    "\n",
    "    ticket = ticket.copy()\n",
    "\n",
    "    for label, pattern in ticket_map.items():\n",
    "\n",
    "        # Use .loc to avoid SettingWithCopyWarning\n",
    "\n",
    "        ticket.loc[ticket.str.contains(pattern)] = label\n",
    "\n",
    "        \n",
    "\n",
    "    return ticket\n",
    "\n",
    "\n",
    "\n",
    "# Apply the function to the 'Ticket_extracted' column\n",
    "\n",
    "# exp2_data['Ticket_extracted'] = map_ticket(exp2_data['Ticket_extracted'])"
   ]
  },
  {
   "cell_type": "code",
   "execution_count": 27,
   "id": "5e46244e",
   "metadata": {
    "execution": {
     "iopub.execute_input": "2024-11-03T06:33:17.246451Z",
     "iopub.status.busy": "2024-11-03T06:33:17.246017Z",
     "iopub.status.idle": "2024-11-03T06:33:17.257465Z",
     "shell.execute_reply": "2024-11-03T06:33:17.256387Z"
    },
    "papermill": {
     "duration": 0.092754,
     "end_time": "2024-11-03T06:33:17.259806",
     "exception": false,
     "start_time": "2024-11-03T06:33:17.167052",
     "status": "completed"
    },
    "tags": []
   },
   "outputs": [
    {
     "data": {
      "text/plain": [
       "Ticket_frequency\n",
       "1    547\n",
       "2    188\n",
       "3     63\n",
       "4     44\n",
       "7     21\n",
       "6     18\n",
       "5     10\n",
       "Name: count, dtype: int64"
      ]
     },
     "execution_count": 27,
     "metadata": {},
     "output_type": "execute_result"
    }
   ],
   "source": [
    "exp2_data['Ticket_frequency'] = exp2_data['Ticket'].map(exp2_data['Ticket'].value_counts())\n",
    "\n",
    "exp2_data['Ticket_frequency'].value_counts()"
   ]
  },
  {
   "cell_type": "code",
   "execution_count": 28,
   "id": "1c7ea952",
   "metadata": {
    "execution": {
     "iopub.execute_input": "2024-11-03T06:33:17.327999Z",
     "iopub.status.busy": "2024-11-03T06:33:17.327081Z",
     "iopub.status.idle": "2024-11-03T06:33:17.333863Z",
     "shell.execute_reply": "2024-11-03T06:33:17.332735Z"
    },
    "papermill": {
     "duration": 0.043437,
     "end_time": "2024-11-03T06:33:17.336166",
     "exception": false,
     "start_time": "2024-11-03T06:33:17.292729",
     "status": "completed"
    },
    "tags": []
   },
   "outputs": [],
   "source": [
    "exp3_data = exp2_data.copy()"
   ]
  },
  {
   "cell_type": "markdown",
   "id": "2f0b6aab",
   "metadata": {
    "papermill": {
     "duration": 0.032696,
     "end_time": "2024-11-03T06:33:17.402641",
     "exception": false,
     "start_time": "2024-11-03T06:33:17.369945",
     "status": "completed"
    },
    "tags": []
   },
   "source": [
    "## Name-based encoding"
   ]
  },
  {
   "cell_type": "code",
   "execution_count": 29,
   "id": "bff7a4e7",
   "metadata": {
    "execution": {
     "iopub.execute_input": "2024-11-03T06:33:17.470281Z",
     "iopub.status.busy": "2024-11-03T06:33:17.469841Z",
     "iopub.status.idle": "2024-11-03T06:33:17.475077Z",
     "shell.execute_reply": "2024-11-03T06:33:17.474091Z"
    },
    "papermill": {
     "duration": 0.042631,
     "end_time": "2024-11-03T06:33:17.477631",
     "exception": false,
     "start_time": "2024-11-03T06:33:17.435000",
     "status": "completed"
    },
    "tags": []
   },
   "outputs": [],
   "source": [
    "def extract_title(name_series):\n",
    "    title = name_series.str.extract('([A-Za-z]+)\\.')\n",
    "\n",
    "    return title"
   ]
  },
  {
   "cell_type": "code",
   "execution_count": 30,
   "id": "dbc793bf",
   "metadata": {
    "execution": {
     "iopub.execute_input": "2024-11-03T06:33:17.546894Z",
     "iopub.status.busy": "2024-11-03T06:33:17.545743Z",
     "iopub.status.idle": "2024-11-03T06:33:17.557765Z",
     "shell.execute_reply": "2024-11-03T06:33:17.556357Z"
    },
    "papermill": {
     "duration": 0.049646,
     "end_time": "2024-11-03T06:33:17.560088",
     "exception": false,
     "start_time": "2024-11-03T06:33:17.510442",
     "status": "completed"
    },
    "tags": []
   },
   "outputs": [],
   "source": [
    "exp3_data['Title'] = extract_title(exp3_data['Name'])"
   ]
  },
  {
   "cell_type": "code",
   "execution_count": 31,
   "id": "07890ad6",
   "metadata": {
    "execution": {
     "iopub.execute_input": "2024-11-03T06:33:17.626845Z",
     "iopub.status.busy": "2024-11-03T06:33:17.625849Z",
     "iopub.status.idle": "2024-11-03T06:33:17.633755Z",
     "shell.execute_reply": "2024-11-03T06:33:17.632686Z"
    },
    "papermill": {
     "duration": 0.043522,
     "end_time": "2024-11-03T06:33:17.635964",
     "exception": false,
     "start_time": "2024-11-03T06:33:17.592442",
     "status": "completed"
    },
    "tags": []
   },
   "outputs": [
    {
     "data": {
      "text/plain": [
       "array(['Mr', 'Mrs', 'Miss', 'Master', 'Don', 'Rev', 'Dr', 'Mme', 'Ms',\n",
       "       'Major', 'Lady', 'Sir', 'Mlle', 'Col', 'Capt', 'Countess',\n",
       "       'Jonkheer'], dtype=object)"
      ]
     },
     "execution_count": 31,
     "metadata": {},
     "output_type": "execute_result"
    }
   ],
   "source": [
    "exp3_data['Title'].unique()"
   ]
  },
  {
   "cell_type": "code",
   "execution_count": 32,
   "id": "36484908",
   "metadata": {
    "execution": {
     "iopub.execute_input": "2024-11-03T06:33:17.704990Z",
     "iopub.status.busy": "2024-11-03T06:33:17.704572Z",
     "iopub.status.idle": "2024-11-03T06:33:17.713426Z",
     "shell.execute_reply": "2024-11-03T06:33:17.712348Z"
    },
    "papermill": {
     "duration": 0.046522,
     "end_time": "2024-11-03T06:33:17.715789",
     "exception": false,
     "start_time": "2024-11-03T06:33:17.669267",
     "status": "completed"
    },
    "tags": []
   },
   "outputs": [],
   "source": [
    "title_map = {\n",
    "    'Mr': 'Mr',\n",
    "    'Miss': 'Miss',\n",
    "    'Ms': 'Miss',\n",
    "    'Mlle': 'Miss',\n",
    "    'Mrs': 'Mrs',\n",
    "    'Mme': 'Mrs',\n",
    "    'Master': 'Master',\n",
    "    'Don': 'Nobility',\n",
    "    'Sir': 'Nobility',\n",
    "    'Countess': 'Nobility',\n",
    "    'Lady': 'Nobility',\n",
    "    'Jonkheer': 'Nobility',\n",
    "    'Dr': 'Professional',\n",
    "    'Rev': 'Professional',\n",
    "    'Major': 'Professional',\n",
    "    'Col': 'Professional',\n",
    "    'Capt': 'Professional'\n",
    "}\n",
    "\n",
    "exp3_data['Title'] = exp3_data['Title'].map(title_map).fillna('Rare')"
   ]
  },
  {
   "cell_type": "code",
   "execution_count": 33,
   "id": "2029d127",
   "metadata": {
    "execution": {
     "iopub.execute_input": "2024-11-03T06:33:17.784531Z",
     "iopub.status.busy": "2024-11-03T06:33:17.783789Z",
     "iopub.status.idle": "2024-11-03T06:33:17.791611Z",
     "shell.execute_reply": "2024-11-03T06:33:17.790529Z"
    },
    "papermill": {
     "duration": 0.044653,
     "end_time": "2024-11-03T06:33:17.793906",
     "exception": false,
     "start_time": "2024-11-03T06:33:17.749253",
     "status": "completed"
    },
    "tags": []
   },
   "outputs": [
    {
     "data": {
      "text/plain": [
       "array(['Mr', 'Mrs', 'Miss', 'Master', 'Nobility', 'Professional'],\n",
       "      dtype=object)"
      ]
     },
     "execution_count": 33,
     "metadata": {},
     "output_type": "execute_result"
    }
   ],
   "source": [
    "exp3_data['Title'].unique()"
   ]
  },
  {
   "cell_type": "code",
   "execution_count": 34,
   "id": "b8606d5f",
   "metadata": {
    "execution": {
     "iopub.execute_input": "2024-11-03T06:33:17.862669Z",
     "iopub.status.busy": "2024-11-03T06:33:17.861884Z",
     "iopub.status.idle": "2024-11-03T06:33:18.239335Z",
     "shell.execute_reply": "2024-11-03T06:33:18.238352Z"
    },
    "papermill": {
     "duration": 0.414431,
     "end_time": "2024-11-03T06:33:18.241674",
     "exception": false,
     "start_time": "2024-11-03T06:33:17.827243",
     "status": "completed"
    },
    "tags": []
   },
   "outputs": [
    {
     "data": {
      "text/plain": [
       "<Axes: xlabel='Title', ylabel='count'>"
      ]
     },
     "execution_count": 34,
     "metadata": {},
     "output_type": "execute_result"
    },
    {
     "data": {
      "image/png": "[encoded data removed]",
      "text/plain": [
       "<Figure size 640x480 with 1 Axes>"
      ]
     },
     "metadata": {},
     "output_type": "display_data"
    }
   ],
   "source": [
    "sns.countplot(exp3_data, x='Title', hue='Survived')"
   ]
  },
  {
   "cell_type": "code",
   "execution_count": 35,
   "id": "6757b51e",
   "metadata": {
    "execution": {
     "iopub.execute_input": "2024-11-03T06:33:18.312847Z",
     "iopub.status.busy": "2024-11-03T06:33:18.312002Z",
     "iopub.status.idle": "2024-11-03T06:33:18.317488Z",
     "shell.execute_reply": "2024-11-03T06:33:18.316412Z"
    },
    "papermill": {
     "duration": 0.042837,
     "end_time": "2024-11-03T06:33:18.319748",
     "exception": false,
     "start_time": "2024-11-03T06:33:18.276911",
     "status": "completed"
    },
    "tags": []
   },
   "outputs": [],
   "source": [
    "def extract_surname(name_series):\n",
    "    surname = name_series.str.split(',', n=1, expand=True).iloc[:, 0]\n",
    "\n",
    "    return surname"
   ]
  },
  {
   "cell_type": "code",
   "execution_count": 36,
   "id": "51d21793",
   "metadata": {
    "execution": {
     "iopub.execute_input": "2024-11-03T06:33:18.389165Z",
     "iopub.status.busy": "2024-11-03T06:33:18.388275Z",
     "iopub.status.idle": "2024-11-03T06:33:18.399004Z",
     "shell.execute_reply": "2024-11-03T06:33:18.397959Z"
    },
    "papermill": {
     "duration": 0.048303,
     "end_time": "2024-11-03T06:33:18.401232",
     "exception": false,
     "start_time": "2024-11-03T06:33:18.352929",
     "status": "completed"
    },
    "tags": []
   },
   "outputs": [
    {
     "data": {
      "text/plain": [
       "667"
      ]
     },
     "execution_count": 36,
     "metadata": {},
     "output_type": "execute_result"
    }
   ],
   "source": [
    "exp3_data['Family_name'] = extract_surname(exp3_data['Name'])\n",
    "\n",
    "exp3_data['Family_name'].nunique()"
   ]
  },
  {
   "cell_type": "markdown",
   "id": "a85df082",
   "metadata": {
    "papermill": {
     "duration": 0.034168,
     "end_time": "2024-11-03T06:33:18.469548",
     "exception": false,
     "start_time": "2024-11-03T06:33:18.435380",
     "status": "completed"
    },
    "tags": []
   },
   "source": [
    "## Target encoding"
   ]
  },
  {
   "cell_type": "code",
   "execution_count": 37,
   "id": "a60d51c5",
   "metadata": {
    "execution": {
     "iopub.execute_input": "2024-11-03T06:33:18.539804Z",
     "iopub.status.busy": "2024-11-03T06:33:18.539342Z",
     "iopub.status.idle": "2024-11-03T06:33:18.552216Z",
     "shell.execute_reply": "2024-11-03T06:33:18.551323Z"
    },
    "papermill": {
     "duration": 0.051113,
     "end_time": "2024-11-03T06:33:18.554447",
     "exception": false,
     "start_time": "2024-11-03T06:33:18.503334",
     "status": "completed"
    },
    "tags": []
   },
   "outputs": [],
   "source": [
    "def map_survival_rate(series, mapping, default):\n",
    "    return series.map(mapping).fillna(default)\n",
    "\n",
    "family_survival_rate = exp3_data.groupby(['Family_name']).Survived.median()\n",
    "ticket_survival_rate = exp3_data.groupby(['Ticket']).Survived.median()\n",
    "default_survival_rate = exp3_data['Survived'].mean()"
   ]
  },
  {
   "cell_type": "code",
   "execution_count": 38,
   "id": "b5de8f47",
   "metadata": {
    "execution": {
     "iopub.execute_input": "2024-11-03T06:33:18.625092Z",
     "iopub.status.busy": "2024-11-03T06:33:18.624659Z",
     "iopub.status.idle": "2024-11-03T06:33:18.633293Z",
     "shell.execute_reply": "2024-11-03T06:33:18.632139Z"
    },
    "papermill": {
     "duration": 0.047002,
     "end_time": "2024-11-03T06:33:18.635560",
     "exception": false,
     "start_time": "2024-11-03T06:33:18.588558",
     "status": "completed"
    },
    "tags": []
   },
   "outputs": [],
   "source": [
    "exp3_data['Family_survival_rate'] = map_survival_rate(exp3_data['Family_name'], family_survival_rate, default_survival_rate)\n",
    "exp3_data['Ticket_survival_rate'] = map_survival_rate(exp3_data['Ticket'], ticket_survival_rate, default_survival_rate)"
   ]
  },
  {
   "cell_type": "code",
   "execution_count": 39,
   "id": "3f477f84",
   "metadata": {
    "execution": {
     "iopub.execute_input": "2024-11-03T06:33:18.706891Z",
     "iopub.status.busy": "2024-11-03T06:33:18.706453Z",
     "iopub.status.idle": "2024-11-03T06:33:19.028800Z",
     "shell.execute_reply": "2024-11-03T06:33:19.027425Z"
    },
    "papermill": {
     "duration": 0.361569,
     "end_time": "2024-11-03T06:33:19.031220",
     "exception": false,
     "start_time": "2024-11-03T06:33:18.669651",
     "status": "completed"
    },
    "tags": []
   },
   "outputs": [
    {
     "data": {
      "text/plain": [
       "<Axes: xlabel='Family_survival_rate', ylabel='count'>"
      ]
     },
     "execution_count": 39,
     "metadata": {},
     "output_type": "execute_result"
    },
    {
     "data": {
      "image/png": "[encoded data removed]",
      "text/plain": [
       "<Figure size 640x480 with 1 Axes>"
      ]
     },
     "metadata": {},
     "output_type": "display_data"
    }
   ],
   "source": [
    "sns.countplot(exp3_data, x='Family_survival_rate', hue='Survived')"
   ]
  },
  {
   "cell_type": "code",
   "execution_count": 40,
   "id": "5fa9a0b0",
   "metadata": {
    "execution": {
     "iopub.execute_input": "2024-11-03T06:33:19.103934Z",
     "iopub.status.busy": "2024-11-03T06:33:19.103122Z",
     "iopub.status.idle": "2024-11-03T06:33:19.423558Z",
     "shell.execute_reply": "2024-11-03T06:33:19.422391Z"
    },
    "papermill": {
     "duration": 0.359443,
     "end_time": "2024-11-03T06:33:19.426100",
     "exception": false,
     "start_time": "2024-11-03T06:33:19.066657",
     "status": "completed"
    },
    "tags": []
   },
   "outputs": [
    {
     "data": {
      "text/plain": [
       "<Axes: xlabel='Ticket_survival_rate', ylabel='count'>"
      ]
     },
     "execution_count": 40,
     "metadata": {},
     "output_type": "execute_result"
    },
    {
     "data": {
      "image/png": "[encoded data removed]",
      "text/plain": [
       "<Figure size 640x480 with 1 Axes>"
      ]
     },
     "metadata": {},
     "output_type": "display_data"
    }
   ],
   "source": [
    "sns.countplot(exp3_data, x='Ticket_survival_rate', hue='Survived')"
   ]
  },
  {
   "cell_type": "code",
   "execution_count": 41,
   "id": "ecd2436f",
   "metadata": {
    "execution": {
     "iopub.execute_input": "2024-11-03T06:33:19.499989Z",
     "iopub.status.busy": "2024-11-03T06:33:19.499537Z",
     "iopub.status.idle": "2024-11-03T06:33:19.507259Z",
     "shell.execute_reply": "2024-11-03T06:33:19.506189Z"
    },
    "papermill": {
     "duration": 0.047419,
     "end_time": "2024-11-03T06:33:19.509555",
     "exception": false,
     "start_time": "2024-11-03T06:33:19.462136",
     "status": "completed"
    },
    "tags": []
   },
   "outputs": [],
   "source": [
    "exp3_data = exp3_data.drop(['Name', 'Ticket', 'Family_name'], axis=1)\n",
    "\n",
    "exp4_data = exp3_data.copy()"
   ]
  },
  {
   "cell_type": "code",
   "execution_count": 42,
   "id": "93422a40",
   "metadata": {
    "execution": {
     "iopub.execute_input": "2024-11-03T06:33:19.583145Z",
     "iopub.status.busy": "2024-11-03T06:33:19.582707Z",
     "iopub.status.idle": "2024-11-03T06:33:19.609078Z",
     "shell.execute_reply": "2024-11-03T06:33:19.608004Z"
    },
    "papermill": {
     "duration": 0.065845,
     "end_time": "2024-11-03T06:33:19.611528",
     "exception": false,
     "start_time": "2024-11-03T06:33:19.545683",
     "status": "completed"
    },
    "tags": []
   },
   "outputs": [
    {
     "data": {
      "text/html": [
       "<div>\n",
       "<style scoped>\n",
       "    .dataframe tbody tr th:only-of-type {\n",
       "        vertical-align: middle;\n",
       "    }\n",
       "\n",
       "    .dataframe tbody tr th {\n",
       "        vertical-align: top;\n",
       "    }\n",
       "\n",
       "    .dataframe thead th {\n",
       "        text-align: right;\n",
       "    }\n",
       "</style>\n",
       "<table border=\"1\" class=\"dataframe\">\n",
       "  <thead>\n",
       "    <tr style=\"text-align: right;\">\n",
       "      <th></th>\n",
       "      <th>Survived</th>\n",
       "      <th>Pclass</th>\n",
       "      <th>Sex</th>\n",
       "      <th>Age</th>\n",
       "      <th>SibSp</th>\n",
       "      <th>Parch</th>\n",
       "      <th>Fare</th>\n",
       "      <th>Embarked</th>\n",
       "      <th>Deck</th>\n",
       "      <th>Family_size</th>\n",
       "      <th>Family_cat</th>\n",
       "      <th>Ticket_frequency</th>\n",
       "      <th>Title</th>\n",
       "      <th>Family_survival_rate</th>\n",
       "      <th>Ticket_survival_rate</th>\n",
       "    </tr>\n",
       "    <tr>\n",
       "      <th>PassengerId</th>\n",
       "      <th></th>\n",
       "      <th></th>\n",
       "      <th></th>\n",
       "      <th></th>\n",
       "      <th></th>\n",
       "      <th></th>\n",
       "      <th></th>\n",
       "      <th></th>\n",
       "      <th></th>\n",
       "      <th></th>\n",
       "      <th></th>\n",
       "      <th></th>\n",
       "      <th></th>\n",
       "      <th></th>\n",
       "      <th></th>\n",
       "    </tr>\n",
       "  </thead>\n",
       "  <tbody>\n",
       "    <tr>\n",
       "      <th>1</th>\n",
       "      <td>0</td>\n",
       "      <td>3</td>\n",
       "      <td>male</td>\n",
       "      <td>22.0</td>\n",
       "      <td>1</td>\n",
       "      <td>0</td>\n",
       "      <td>7.2500</td>\n",
       "      <td>S</td>\n",
       "      <td>M</td>\n",
       "      <td>2</td>\n",
       "      <td>small</td>\n",
       "      <td>1</td>\n",
       "      <td>Mr</td>\n",
       "      <td>0.0</td>\n",
       "      <td>0.0</td>\n",
       "    </tr>\n",
       "    <tr>\n",
       "      <th>2</th>\n",
       "      <td>1</td>\n",
       "      <td>1</td>\n",
       "      <td>female</td>\n",
       "      <td>38.0</td>\n",
       "      <td>1</td>\n",
       "      <td>0</td>\n",
       "      <td>71.2833</td>\n",
       "      <td>C</td>\n",
       "      <td>ABC</td>\n",
       "      <td>2</td>\n",
       "      <td>small</td>\n",
       "      <td>1</td>\n",
       "      <td>Mrs</td>\n",
       "      <td>1.0</td>\n",
       "      <td>1.0</td>\n",
       "    </tr>\n",
       "    <tr>\n",
       "      <th>3</th>\n",
       "      <td>1</td>\n",
       "      <td>3</td>\n",
       "      <td>female</td>\n",
       "      <td>26.0</td>\n",
       "      <td>0</td>\n",
       "      <td>0</td>\n",
       "      <td>7.9250</td>\n",
       "      <td>S</td>\n",
       "      <td>M</td>\n",
       "      <td>1</td>\n",
       "      <td>alone</td>\n",
       "      <td>1</td>\n",
       "      <td>Miss</td>\n",
       "      <td>1.0</td>\n",
       "      <td>1.0</td>\n",
       "    </tr>\n",
       "    <tr>\n",
       "      <th>4</th>\n",
       "      <td>1</td>\n",
       "      <td>1</td>\n",
       "      <td>female</td>\n",
       "      <td>35.0</td>\n",
       "      <td>1</td>\n",
       "      <td>0</td>\n",
       "      <td>53.1000</td>\n",
       "      <td>S</td>\n",
       "      <td>ABC</td>\n",
       "      <td>2</td>\n",
       "      <td>small</td>\n",
       "      <td>2</td>\n",
       "      <td>Mrs</td>\n",
       "      <td>0.5</td>\n",
       "      <td>0.5</td>\n",
       "    </tr>\n",
       "    <tr>\n",
       "      <th>5</th>\n",
       "      <td>0</td>\n",
       "      <td>3</td>\n",
       "      <td>male</td>\n",
       "      <td>35.0</td>\n",
       "      <td>0</td>\n",
       "      <td>0</td>\n",
       "      <td>8.0500</td>\n",
       "      <td>S</td>\n",
       "      <td>M</td>\n",
       "      <td>1</td>\n",
       "      <td>alone</td>\n",
       "      <td>1</td>\n",
       "      <td>Mr</td>\n",
       "      <td>0.5</td>\n",
       "      <td>0.0</td>\n",
       "    </tr>\n",
       "    <tr>\n",
       "      <th>...</th>\n",
       "      <td>...</td>\n",
       "      <td>...</td>\n",
       "      <td>...</td>\n",
       "      <td>...</td>\n",
       "      <td>...</td>\n",
       "      <td>...</td>\n",
       "      <td>...</td>\n",
       "      <td>...</td>\n",
       "      <td>...</td>\n",
       "      <td>...</td>\n",
       "      <td>...</td>\n",
       "      <td>...</td>\n",
       "      <td>...</td>\n",
       "      <td>...</td>\n",
       "      <td>...</td>\n",
       "    </tr>\n",
       "    <tr>\n",
       "      <th>887</th>\n",
       "      <td>0</td>\n",
       "      <td>2</td>\n",
       "      <td>male</td>\n",
       "      <td>27.0</td>\n",
       "      <td>0</td>\n",
       "      <td>0</td>\n",
       "      <td>13.0000</td>\n",
       "      <td>S</td>\n",
       "      <td>M</td>\n",
       "      <td>1</td>\n",
       "      <td>alone</td>\n",
       "      <td>1</td>\n",
       "      <td>Professional</td>\n",
       "      <td>0.0</td>\n",
       "      <td>0.0</td>\n",
       "    </tr>\n",
       "    <tr>\n",
       "      <th>888</th>\n",
       "      <td>1</td>\n",
       "      <td>1</td>\n",
       "      <td>female</td>\n",
       "      <td>19.0</td>\n",
       "      <td>0</td>\n",
       "      <td>0</td>\n",
       "      <td>30.0000</td>\n",
       "      <td>S</td>\n",
       "      <td>ABC</td>\n",
       "      <td>1</td>\n",
       "      <td>alone</td>\n",
       "      <td>1</td>\n",
       "      <td>Miss</td>\n",
       "      <td>1.0</td>\n",
       "      <td>1.0</td>\n",
       "    </tr>\n",
       "    <tr>\n",
       "      <th>889</th>\n",
       "      <td>0</td>\n",
       "      <td>3</td>\n",
       "      <td>female</td>\n",
       "      <td>NaN</td>\n",
       "      <td>1</td>\n",
       "      <td>2</td>\n",
       "      <td>23.4500</td>\n",
       "      <td>S</td>\n",
       "      <td>M</td>\n",
       "      <td>4</td>\n",
       "      <td>small</td>\n",
       "      <td>2</td>\n",
       "      <td>Miss</td>\n",
       "      <td>0.0</td>\n",
       "      <td>0.0</td>\n",
       "    </tr>\n",
       "    <tr>\n",
       "      <th>890</th>\n",
       "      <td>1</td>\n",
       "      <td>1</td>\n",
       "      <td>male</td>\n",
       "      <td>26.0</td>\n",
       "      <td>0</td>\n",
       "      <td>0</td>\n",
       "      <td>30.0000</td>\n",
       "      <td>C</td>\n",
       "      <td>ABC</td>\n",
       "      <td>1</td>\n",
       "      <td>alone</td>\n",
       "      <td>1</td>\n",
       "      <td>Mr</td>\n",
       "      <td>1.0</td>\n",
       "      <td>1.0</td>\n",
       "    </tr>\n",
       "    <tr>\n",
       "      <th>891</th>\n",
       "      <td>0</td>\n",
       "      <td>3</td>\n",
       "      <td>male</td>\n",
       "      <td>32.0</td>\n",
       "      <td>0</td>\n",
       "      <td>0</td>\n",
       "      <td>7.7500</td>\n",
       "      <td>Q</td>\n",
       "      <td>M</td>\n",
       "      <td>1</td>\n",
       "      <td>alone</td>\n",
       "      <td>1</td>\n",
       "      <td>Mr</td>\n",
       "      <td>0.0</td>\n",
       "      <td>0.0</td>\n",
       "    </tr>\n",
       "  </tbody>\n",
       "</table>\n",
       "<p>891 rows × 15 columns</p>\n",
       "</div>"
      ],
      "text/plain": [
       "             Survived  Pclass     Sex   Age  SibSp  Parch     Fare Embarked  \\\n",
       "PassengerId                                                                   \n",
       "1                   0       3    male  22.0      1      0   7.2500        S   \n",
       "2                   1       1  female  38.0      1      0  71.2833        C   \n",
       "3                   1       3  female  26.0      0      0   7.9250        S   \n",
       "4                   1       1  female  35.0      1      0  53.1000        S   \n",
       "5                   0       3    male  35.0      0      0   8.0500        S   \n",
       "...               ...     ...     ...   ...    ...    ...      ...      ...   \n",
       "887                 0       2    male  27.0      0      0  13.0000        S   \n",
       "888                 1       1  female  19.0      0      0  30.0000        S   \n",
       "889                 0       3  female   NaN      1      2  23.4500        S   \n",
       "890                 1       1    male  26.0      0      0  30.0000        C   \n",
       "891                 0       3    male  32.0      0      0   7.7500        Q   \n",
       "\n",
       "            Deck  Family_size Family_cat  Ticket_frequency         Title  \\\n",
       "PassengerId                                                                \n",
       "1              M            2      small                 1            Mr   \n",
       "2            ABC            2      small                 1           Mrs   \n",
       "3              M            1      alone                 1          Miss   \n",
       "4            ABC            2      small                 2           Mrs   \n",
       "5              M            1      alone                 1            Mr   \n",
       "...          ...          ...        ...               ...           ...   \n",
       "887            M            1      alone                 1  Professional   \n",
       "888          ABC            1      alone                 1          Miss   \n",
       "889            M            4      small                 2          Miss   \n",
       "890          ABC            1      alone                 1            Mr   \n",
       "891            M            1      alone                 1            Mr   \n",
       "\n",
       "             Family_survival_rate  Ticket_survival_rate  \n",
       "PassengerId                                              \n",
       "1                             0.0                   0.0  \n",
       "2                             1.0                   1.0  \n",
       "3                             1.0                   1.0  \n",
       "4                             0.5                   0.5  \n",
       "5                             0.5                   0.0  \n",
       "...                           ...                   ...  \n",
       "887                           0.0                   0.0  \n",
       "888                           1.0                   1.0  \n",
       "889                           0.0                   0.0  \n",
       "890                           1.0                   1.0  \n",
       "891                           0.0                   0.0  \n",
       "\n",
       "[891 rows x 15 columns]"
      ]
     },
     "execution_count": 42,
     "metadata": {},
     "output_type": "execute_result"
    }
   ],
   "source": [
    "exp4_data"
   ]
  },
  {
   "cell_type": "markdown",
   "id": "93ac47e5",
   "metadata": {
    "papermill": {
     "duration": 0.036255,
     "end_time": "2024-11-03T06:33:19.684552",
     "exception": false,
     "start_time": "2024-11-03T06:33:19.648297",
     "status": "completed"
    },
    "tags": []
   },
   "source": [
    "## Label and one-hot encoding"
   ]
  },
  {
   "cell_type": "markdown",
   "id": "af4b8c5b",
   "metadata": {
    "papermill": {
     "duration": 0.035172,
     "end_time": "2024-11-03T06:33:19.756537",
     "exception": false,
     "start_time": "2024-11-03T06:33:19.721365",
     "status": "completed"
    },
    "tags": []
   },
   "source": [
    "### Label encoding"
   ]
  },
  {
   "cell_type": "code",
   "execution_count": 43,
   "id": "b0515eb0",
   "metadata": {
    "execution": {
     "iopub.execute_input": "2024-11-03T06:33:19.828892Z",
     "iopub.status.busy": "2024-11-03T06:33:19.828146Z",
     "iopub.status.idle": "2024-11-03T06:33:19.836922Z",
     "shell.execute_reply": "2024-11-03T06:33:19.835848Z"
    },
    "papermill": {
     "duration": 0.047361,
     "end_time": "2024-11-03T06:33:19.839044",
     "exception": false,
     "start_time": "2024-11-03T06:33:19.791683",
     "status": "completed"
    },
    "tags": []
   },
   "outputs": [],
   "source": [
    "label_features = ['Sex', 'Family_cat']\n",
    "\n",
    "sex_map = {\n",
    "    'male': 0,\n",
    "    'female': 1\n",
    "}\n",
    "\n",
    "family_cat_map = {\n",
    "    'alone': 0,\n",
    "    'small': 1,\n",
    "    'big': 2\n",
    "}\n",
    "\n",
    "exp4_data['Sex'] = exp4_data['Sex'].map(sex_map)\n",
    "\n",
    "exp4_data['Family_cat'] = exp4_data['Family_cat'].map(family_cat_map)"
   ]
  },
  {
   "cell_type": "code",
   "execution_count": 44,
   "id": "301284ab",
   "metadata": {
    "execution": {
     "iopub.execute_input": "2024-11-03T06:33:19.912115Z",
     "iopub.status.busy": "2024-11-03T06:33:19.911658Z",
     "iopub.status.idle": "2024-11-03T06:33:19.936758Z",
     "shell.execute_reply": "2024-11-03T06:33:19.935650Z"
    },
    "papermill": {
     "duration": 0.064402,
     "end_time": "2024-11-03T06:33:19.939256",
     "exception": false,
     "start_time": "2024-11-03T06:33:19.874854",
     "status": "completed"
    },
    "tags": []
   },
   "outputs": [
    {
     "data": {
      "text/html": [
       "<div>\n",
       "<style scoped>\n",
       "    .dataframe tbody tr th:only-of-type {\n",
       "        vertical-align: middle;\n",
       "    }\n",
       "\n",
       "    .dataframe tbody tr th {\n",
       "        vertical-align: top;\n",
       "    }\n",
       "\n",
       "    .dataframe thead th {\n",
       "        text-align: right;\n",
       "    }\n",
       "</style>\n",
       "<table border=\"1\" class=\"dataframe\">\n",
       "  <thead>\n",
       "    <tr style=\"text-align: right;\">\n",
       "      <th></th>\n",
       "      <th>Survived</th>\n",
       "      <th>Pclass</th>\n",
       "      <th>Sex</th>\n",
       "      <th>Age</th>\n",
       "      <th>SibSp</th>\n",
       "      <th>Parch</th>\n",
       "      <th>Fare</th>\n",
       "      <th>Embarked</th>\n",
       "      <th>Deck</th>\n",
       "      <th>Family_size</th>\n",
       "      <th>Family_cat</th>\n",
       "      <th>Ticket_frequency</th>\n",
       "      <th>Title</th>\n",
       "      <th>Family_survival_rate</th>\n",
       "      <th>Ticket_survival_rate</th>\n",
       "    </tr>\n",
       "    <tr>\n",
       "      <th>PassengerId</th>\n",
       "      <th></th>\n",
       "      <th></th>\n",
       "      <th></th>\n",
       "      <th></th>\n",
       "      <th></th>\n",
       "      <th></th>\n",
       "      <th></th>\n",
       "      <th></th>\n",
       "      <th></th>\n",
       "      <th></th>\n",
       "      <th></th>\n",
       "      <th></th>\n",
       "      <th></th>\n",
       "      <th></th>\n",
       "      <th></th>\n",
       "    </tr>\n",
       "  </thead>\n",
       "  <tbody>\n",
       "    <tr>\n",
       "      <th>1</th>\n",
       "      <td>0</td>\n",
       "      <td>3</td>\n",
       "      <td>0</td>\n",
       "      <td>22.0</td>\n",
       "      <td>1</td>\n",
       "      <td>0</td>\n",
       "      <td>7.2500</td>\n",
       "      <td>S</td>\n",
       "      <td>M</td>\n",
       "      <td>2</td>\n",
       "      <td>1</td>\n",
       "      <td>1</td>\n",
       "      <td>Mr</td>\n",
       "      <td>0.0</td>\n",
       "      <td>0.0</td>\n",
       "    </tr>\n",
       "    <tr>\n",
       "      <th>2</th>\n",
       "      <td>1</td>\n",
       "      <td>1</td>\n",
       "      <td>1</td>\n",
       "      <td>38.0</td>\n",
       "      <td>1</td>\n",
       "      <td>0</td>\n",
       "      <td>71.2833</td>\n",
       "      <td>C</td>\n",
       "      <td>ABC</td>\n",
       "      <td>2</td>\n",
       "      <td>1</td>\n",
       "      <td>1</td>\n",
       "      <td>Mrs</td>\n",
       "      <td>1.0</td>\n",
       "      <td>1.0</td>\n",
       "    </tr>\n",
       "    <tr>\n",
       "      <th>3</th>\n",
       "      <td>1</td>\n",
       "      <td>3</td>\n",
       "      <td>1</td>\n",
       "      <td>26.0</td>\n",
       "      <td>0</td>\n",
       "      <td>0</td>\n",
       "      <td>7.9250</td>\n",
       "      <td>S</td>\n",
       "      <td>M</td>\n",
       "      <td>1</td>\n",
       "      <td>0</td>\n",
       "      <td>1</td>\n",
       "      <td>Miss</td>\n",
       "      <td>1.0</td>\n",
       "      <td>1.0</td>\n",
       "    </tr>\n",
       "    <tr>\n",
       "      <th>4</th>\n",
       "      <td>1</td>\n",
       "      <td>1</td>\n",
       "      <td>1</td>\n",
       "      <td>35.0</td>\n",
       "      <td>1</td>\n",
       "      <td>0</td>\n",
       "      <td>53.1000</td>\n",
       "      <td>S</td>\n",
       "      <td>ABC</td>\n",
       "      <td>2</td>\n",
       "      <td>1</td>\n",
       "      <td>2</td>\n",
       "      <td>Mrs</td>\n",
       "      <td>0.5</td>\n",
       "      <td>0.5</td>\n",
       "    </tr>\n",
       "    <tr>\n",
       "      <th>5</th>\n",
       "      <td>0</td>\n",
       "      <td>3</td>\n",
       "      <td>0</td>\n",
       "      <td>35.0</td>\n",
       "      <td>0</td>\n",
       "      <td>0</td>\n",
       "      <td>8.0500</td>\n",
       "      <td>S</td>\n",
       "      <td>M</td>\n",
       "      <td>1</td>\n",
       "      <td>0</td>\n",
       "      <td>1</td>\n",
       "      <td>Mr</td>\n",
       "      <td>0.5</td>\n",
       "      <td>0.0</td>\n",
       "    </tr>\n",
       "    <tr>\n",
       "      <th>...</th>\n",
       "      <td>...</td>\n",
       "      <td>...</td>\n",
       "      <td>...</td>\n",
       "      <td>...</td>\n",
       "      <td>...</td>\n",
       "      <td>...</td>\n",
       "      <td>...</td>\n",
       "      <td>...</td>\n",
       "      <td>...</td>\n",
       "      <td>...</td>\n",
       "      <td>...</td>\n",
       "      <td>...</td>\n",
       "      <td>...</td>\n",
       "      <td>...</td>\n",
       "      <td>...</td>\n",
       "    </tr>\n",
       "    <tr>\n",
       "      <th>887</th>\n",
       "      <td>0</td>\n",
       "      <td>2</td>\n",
       "      <td>0</td>\n",
       "      <td>27.0</td>\n",
       "      <td>0</td>\n",
       "      <td>0</td>\n",
       "      <td>13.0000</td>\n",
       "      <td>S</td>\n",
       "      <td>M</td>\n",
       "      <td>1</td>\n",
       "      <td>0</td>\n",
       "      <td>1</td>\n",
       "      <td>Professional</td>\n",
       "      <td>0.0</td>\n",
       "      <td>0.0</td>\n",
       "    </tr>\n",
       "    <tr>\n",
       "      <th>888</th>\n",
       "      <td>1</td>\n",
       "      <td>1</td>\n",
       "      <td>1</td>\n",
       "      <td>19.0</td>\n",
       "      <td>0</td>\n",
       "      <td>0</td>\n",
       "      <td>30.0000</td>\n",
       "      <td>S</td>\n",
       "      <td>ABC</td>\n",
       "      <td>1</td>\n",
       "      <td>0</td>\n",
       "      <td>1</td>\n",
       "      <td>Miss</td>\n",
       "      <td>1.0</td>\n",
       "      <td>1.0</td>\n",
       "    </tr>\n",
       "    <tr>\n",
       "      <th>889</th>\n",
       "      <td>0</td>\n",
       "      <td>3</td>\n",
       "      <td>1</td>\n",
       "      <td>NaN</td>\n",
       "      <td>1</td>\n",
       "      <td>2</td>\n",
       "      <td>23.4500</td>\n",
       "      <td>S</td>\n",
       "      <td>M</td>\n",
       "      <td>4</td>\n",
       "      <td>1</td>\n",
       "      <td>2</td>\n",
       "      <td>Miss</td>\n",
       "      <td>0.0</td>\n",
       "      <td>0.0</td>\n",
       "    </tr>\n",
       "    <tr>\n",
       "      <th>890</th>\n",
       "      <td>1</td>\n",
       "      <td>1</td>\n",
       "      <td>0</td>\n",
       "      <td>26.0</td>\n",
       "      <td>0</td>\n",
       "      <td>0</td>\n",
       "      <td>30.0000</td>\n",
       "      <td>C</td>\n",
       "      <td>ABC</td>\n",
       "      <td>1</td>\n",
       "      <td>0</td>\n",
       "      <td>1</td>\n",
       "      <td>Mr</td>\n",
       "      <td>1.0</td>\n",
       "      <td>1.0</td>\n",
       "    </tr>\n",
       "    <tr>\n",
       "      <th>891</th>\n",
       "      <td>0</td>\n",
       "      <td>3</td>\n",
       "      <td>0</td>\n",
       "      <td>32.0</td>\n",
       "      <td>0</td>\n",
       "      <td>0</td>\n",
       "      <td>7.7500</td>\n",
       "      <td>Q</td>\n",
       "      <td>M</td>\n",
       "      <td>1</td>\n",
       "      <td>0</td>\n",
       "      <td>1</td>\n",
       "      <td>Mr</td>\n",
       "      <td>0.0</td>\n",
       "      <td>0.0</td>\n",
       "    </tr>\n",
       "  </tbody>\n",
       "</table>\n",
       "<p>891 rows × 15 columns</p>\n",
       "</div>"
      ],
      "text/plain": [
       "             Survived  Pclass  Sex   Age  SibSp  Parch     Fare Embarked Deck  \\\n",
       "PassengerId                                                                     \n",
       "1                   0       3    0  22.0      1      0   7.2500        S    M   \n",
       "2                   1       1    1  38.0      1      0  71.2833        C  ABC   \n",
       "3                   1       3    1  26.0      0      0   7.9250        S    M   \n",
       "4                   1       1    1  35.0      1      0  53.1000        S  ABC   \n",
       "5                   0       3    0  35.0      0      0   8.0500        S    M   \n",
       "...               ...     ...  ...   ...    ...    ...      ...      ...  ...   \n",
       "887                 0       2    0  27.0      0      0  13.0000        S    M   \n",
       "888                 1       1    1  19.0      0      0  30.0000        S  ABC   \n",
       "889                 0       3    1   NaN      1      2  23.4500        S    M   \n",
       "890                 1       1    0  26.0      0      0  30.0000        C  ABC   \n",
       "891                 0       3    0  32.0      0      0   7.7500        Q    M   \n",
       "\n",
       "             Family_size  Family_cat  Ticket_frequency         Title  \\\n",
       "PassengerId                                                            \n",
       "1                      2           1                 1            Mr   \n",
       "2                      2           1                 1           Mrs   \n",
       "3                      1           0                 1          Miss   \n",
       "4                      2           1                 2           Mrs   \n",
       "5                      1           0                 1            Mr   \n",
       "...                  ...         ...               ...           ...   \n",
       "887                    1           0                 1  Professional   \n",
       "888                    1           0                 1          Miss   \n",
       "889                    4           1                 2          Miss   \n",
       "890                    1           0                 1            Mr   \n",
       "891                    1           0                 1            Mr   \n",
       "\n",
       "             Family_survival_rate  Ticket_survival_rate  \n",
       "PassengerId                                              \n",
       "1                             0.0                   0.0  \n",
       "2                             1.0                   1.0  \n",
       "3                             1.0                   1.0  \n",
       "4                             0.5                   0.5  \n",
       "5                             0.5                   0.0  \n",
       "...                           ...                   ...  \n",
       "887                           0.0                   0.0  \n",
       "888                           1.0                   1.0  \n",
       "889                           0.0                   0.0  \n",
       "890                           1.0                   1.0  \n",
       "891                           0.0                   0.0  \n",
       "\n",
       "[891 rows x 15 columns]"
      ]
     },
     "execution_count": 44,
     "metadata": {},
     "output_type": "execute_result"
    }
   ],
   "source": [
    "exp4_data"
   ]
  },
  {
   "cell_type": "code",
   "execution_count": 45,
   "id": "75e1732a",
   "metadata": {
    "execution": {
     "iopub.execute_input": "2024-11-03T06:33:20.014799Z",
     "iopub.status.busy": "2024-11-03T06:33:20.014287Z",
     "iopub.status.idle": "2024-11-03T06:33:20.030658Z",
     "shell.execute_reply": "2024-11-03T06:33:20.029819Z"
    },
    "papermill": {
     "duration": 0.056999,
     "end_time": "2024-11-03T06:33:20.032890",
     "exception": false,
     "start_time": "2024-11-03T06:33:19.975891",
     "status": "completed"
    },
    "tags": []
   },
   "outputs": [],
   "source": [
    "oh_cat = ['Embarked', 'Deck', 'Title']\n",
    "oh_encoder = OneHotEncoder(drop='first', handle_unknown='ignore', sparse_output=False)\n",
    "X_encoded = oh_encoder.fit_transform(exp4_data[oh_cat])\n",
    "X_encoded_df = pd.DataFrame(X_encoded, columns=oh_encoder.get_feature_names_out(oh_cat))\n",
    "exp4_data = pd.concat([exp4_data.reset_index(drop=True), X_encoded_df.reset_index(drop=True)], axis=1)\n",
    "exp4_data = exp4_data.drop(oh_cat + ['SibSp', 'Parch'], axis=1)"
   ]
  },
  {
   "cell_type": "code",
   "execution_count": 46,
   "id": "24d86cc6",
   "metadata": {
    "execution": {
     "iopub.execute_input": "2024-11-03T06:33:20.109356Z",
     "iopub.status.busy": "2024-11-03T06:33:20.108323Z",
     "iopub.status.idle": "2024-11-03T06:33:20.114024Z",
     "shell.execute_reply": "2024-11-03T06:33:20.113115Z"
    },
    "papermill": {
     "duration": 0.046135,
     "end_time": "2024-11-03T06:33:20.116192",
     "exception": false,
     "start_time": "2024-11-03T06:33:20.070057",
     "status": "completed"
    },
    "tags": []
   },
   "outputs": [],
   "source": [
    "exp5_data = exp4_data.copy()"
   ]
  },
  {
   "cell_type": "code",
   "execution_count": 47,
   "id": "368a443a",
   "metadata": {
    "execution": {
     "iopub.execute_input": "2024-11-03T06:33:20.191484Z",
     "iopub.status.busy": "2024-11-03T06:33:20.190673Z",
     "iopub.status.idle": "2024-11-03T06:33:20.196886Z",
     "shell.execute_reply": "2024-11-03T06:33:20.195813Z"
    },
    "papermill": {
     "duration": 0.04645,
     "end_time": "2024-11-03T06:33:20.199215",
     "exception": false,
     "start_time": "2024-11-03T06:33:20.152765",
     "status": "completed"
    },
    "tags": []
   },
   "outputs": [],
   "source": [
    "exp5_data = exp5_data.drop(['Family_survival_rate', 'Ticket_survival_rate'], axis=1)"
   ]
  },
  {
   "cell_type": "markdown",
   "id": "1ad08eb4",
   "metadata": {
    "papermill": {
     "duration": 0.036365,
     "end_time": "2024-11-03T06:33:20.271294",
     "exception": false,
     "start_time": "2024-11-03T06:33:20.234929",
     "status": "completed"
    },
    "tags": []
   },
   "source": [
    "\n",
    "\n",
    "## Age imputation"
   ]
  },
  {
   "cell_type": "code",
   "execution_count": 48,
   "id": "ae61f9d0",
   "metadata": {
    "execution": {
     "iopub.execute_input": "2024-11-03T06:33:20.347356Z",
     "iopub.status.busy": "2024-11-03T06:33:20.346183Z",
     "iopub.status.idle": "2024-11-03T06:33:20.468299Z",
     "shell.execute_reply": "2024-11-03T06:33:20.467134Z"
    },
    "papermill": {
     "duration": 0.162859,
     "end_time": "2024-11-03T06:33:20.471081",
     "exception": false,
     "start_time": "2024-11-03T06:33:20.308222",
     "status": "completed"
    },
    "tags": []
   },
   "outputs": [],
   "source": [
    "age_known = exp5_data[exp5_data['Age'].notna()]\n",
    "age_unknown = exp5_data[exp5_data['Age'].isna()]\n",
    "\n",
    "X_age_known = age_known.drop(['Age', 'Survived'], axis=1)\n",
    "y_age_known = age_known['Age']\n",
    "X_age_unknown = age_unknown.drop(['Age', 'Survived'], axis=1)\n",
    "\n",
    "age_params = {'learning_rate': 0.05, 'max_depth': 5, 'max_features': 'sqrt', 'min_samples_leaf': 2, 'min_samples_split': 2, 'n_estimators': 50, 'subsample': 1.0}\n",
    "age_model = GradientBoostingRegressor()\n",
    "age_model.fit(X_age_known, y_age_known)\n",
    "age_prediction = age_model.predict(X_age_known)"
   ]
  },
  {
   "cell_type": "code",
   "execution_count": 49,
   "id": "eeb1f8f0",
   "metadata": {
    "execution": {
     "iopub.execute_input": "2024-11-03T06:33:20.546118Z",
     "iopub.status.busy": "2024-11-03T06:33:20.545006Z",
     "iopub.status.idle": "2024-11-03T06:33:20.869274Z",
     "shell.execute_reply": "2024-11-03T06:33:20.868184Z"
    },
    "papermill": {
     "duration": 0.364277,
     "end_time": "2024-11-03T06:33:20.872016",
     "exception": false,
     "start_time": "2024-11-03T06:33:20.507739",
     "status": "completed"
    },
    "tags": []
   },
   "outputs": [
    {
     "data": {
      "image/png": "[encoded data removed]",
      "text/plain": [
       "<Figure size 400x400 with 1 Axes>"
      ]
     },
     "metadata": {},
     "output_type": "display_data"
    }
   ],
   "source": [
    "plt.figure(figsize=(4, 4))\n",
    "plt.scatter(y_age_known, age_prediction, alpha=0.5)\n",
    "plt.plot([min(y_age_known), max(y_age_known)], [min(y_age_known), max(y_age_known)], color='red', linestyle='--')\n",
    "plt.title('Predicted vs Actual Age')\n",
    "plt.xlabel('Actual Age')\n",
    "plt.ylabel('Predicted Age')\n",
    "plt.show()"
   ]
  },
  {
   "cell_type": "markdown",
   "id": "5530d1c8",
   "metadata": {
    "papermill": {
     "duration": 0.040448,
     "end_time": "2024-11-03T06:33:20.949790",
     "exception": false,
     "start_time": "2024-11-03T06:33:20.909342",
     "status": "completed"
    },
    "tags": []
   },
   "source": [
    "### Hyperparameter tuning"
   ]
  },
  {
   "cell_type": "code",
   "execution_count": 50,
   "id": "465de634",
   "metadata": {
    "execution": {
     "iopub.execute_input": "2024-11-03T06:33:21.036215Z",
     "iopub.status.busy": "2024-11-03T06:33:21.035806Z",
     "iopub.status.idle": "2024-11-03T06:33:21.043770Z",
     "shell.execute_reply": "2024-11-03T06:33:21.042662Z"
    },
    "papermill": {
     "duration": 0.05925,
     "end_time": "2024-11-03T06:33:21.046446",
     "exception": false,
     "start_time": "2024-11-03T06:33:20.987196",
     "status": "completed"
    },
    "tags": []
   },
   "outputs": [],
   "source": [
    "param_grid_age_model = {\n",
    "    'n_estimators': [50, 100, 150, 200],            # Number of boosting rounds\n",
    "    'learning_rate': [0.01, 0.1, 0.2],              # Step size shrinkage\n",
    "    'max_depth': [3, 4, 5, 6],                      # Maximum depth of trees\n",
    "    'min_samples_split': [2, 5, 10],                # Minimum number of samples required to split an internal node\n",
    "    'min_samples_leaf': [1, 2, 4],                  # Minimum number of samples required to be at a leaf node\n",
    "    'subsample': [0.6, 0.8, 1.0],                   # Fraction of samples used for fitting the trees\n",
    "    'random_state': [SEED],                           # Fix random seed\n",
    "}\n",
    "\n",
    "\n",
    "\n",
    "grid_search_age = GridSearchCV(\n",
    "    estimator=age_model,\n",
    "    param_grid=param_grid_age_model,\n",
    "    cv=5,                                         # Number of cross-validation folds\n",
    "    scoring='neg_mean_squared_error',             # Scoring method\n",
    "    n_jobs=-1,                                    # Use all available cores\n",
    "    verbose=2,                                    # Verbosity level\n",
    "    return_train_score=True                        # Return training scores as well\n",
    ")\n",
    "\n",
    "# grid_search_age.fit(X_age_known, y_age_known)"
   ]
  },
  {
   "cell_type": "code",
   "execution_count": 51,
   "id": "88dcd824",
   "metadata": {
    "execution": {
     "iopub.execute_input": "2024-11-03T06:33:21.159635Z",
     "iopub.status.busy": "2024-11-03T06:33:21.158233Z",
     "iopub.status.idle": "2024-11-03T06:33:21.247723Z",
     "shell.execute_reply": "2024-11-03T06:33:21.246530Z"
    },
    "papermill": {
     "duration": 0.154126,
     "end_time": "2024-11-03T06:33:21.250385",
     "exception": false,
     "start_time": "2024-11-03T06:33:21.096259",
     "status": "completed"
    },
    "tags": []
   },
   "outputs": [
    {
     "data": {
      "text/html": [
       "<style>#sk-container-id-1 {color: black;background-color: white;}#sk-container-id-1 pre{padding: 0;}#sk-container-id-1 div.sk-toggleable {background-color: white;}#sk-container-id-1 label.sk-toggleable__label {cursor: pointer;display: block;width: 100%;margin-bottom: 0;padding: 0.3em;box-sizing: border-box;text-align: center;}#sk-container-id-1 label.sk-toggleable__label-arrow:before {content: \"▸\";float: left;margin-right: 0.25em;color: #696969;}#sk-container-id-1 label.sk-toggleable__label-arrow:hover:before {color: black;}#sk-container-id-1 div.sk-estimator:hover label.sk-toggleable__label-arrow:before {color: black;}#sk-container-id-1 div.sk-toggleable__content {max-height: 0;max-width: 0;overflow: hidden;text-align: left;background-color: #f0f8ff;}#sk-container-id-1 div.sk-toggleable__content pre {margin: 0.2em;color: black;border-radius: 0.25em;background-color: #f0f8ff;}#sk-container-id-1 input.sk-toggleable__control:checked~div.sk-toggleable__content {max-height: 200px;max-width: 100%;overflow: auto;}#sk-container-id-1 input.sk-toggleable__control:checked~label.sk-toggleable__label-arrow:before {content: \"▾\";}#sk-container-id-1 div.sk-estimator input.sk-toggleable__control:checked~label.sk-toggleable__label {background-color: #d4ebff;}#sk-container-id-1 div.sk-label input.sk-toggleable__control:checked~label.sk-toggleable__label {background-color: #d4ebff;}#sk-container-id-1 input.sk-hidden--visually {border: 0;clip: rect(1px 1px 1px 1px);clip: rect(1px, 1px, 1px, 1px);height: 1px;margin: -1px;overflow: hidden;padding: 0;position: absolute;width: 1px;}#sk-container-id-1 div.sk-estimator {font-family: monospace;background-color: #f0f8ff;border: 1px dotted black;border-radius: 0.25em;box-sizing: border-box;margin-bottom: 0.5em;}#sk-container-id-1 div.sk-estimator:hover {background-color: #d4ebff;}#sk-container-id-1 div.sk-parallel-item::after {content: \"\";width: 100%;border-bottom: 1px solid gray;flex-grow: 1;}#sk-container-id-1 div.sk-label:hover label.sk-toggleable__label {background-color: #d4ebff;}#sk-container-id-1 div.sk-serial::before {content: \"\";position: absolute;border-left: 1px solid gray;box-sizing: border-box;top: 0;bottom: 0;left: 50%;z-index: 0;}#sk-container-id-1 div.sk-serial {display: flex;flex-direction: column;align-items: center;background-color: white;padding-right: 0.2em;padding-left: 0.2em;position: relative;}#sk-container-id-1 div.sk-item {position: relative;z-index: 1;}#sk-container-id-1 div.sk-parallel {display: flex;align-items: stretch;justify-content: center;background-color: white;position: relative;}#sk-container-id-1 div.sk-item::before, #sk-container-id-1 div.sk-parallel-item::before {content: \"\";position: absolute;border-left: 1px solid gray;box-sizing: border-box;top: 0;bottom: 0;left: 50%;z-index: -1;}#sk-container-id-1 div.sk-parallel-item {display: flex;flex-direction: column;z-index: 1;position: relative;background-color: white;}#sk-container-id-1 div.sk-parallel-item:first-child::after {align-self: flex-end;width: 50%;}#sk-container-id-1 div.sk-parallel-item:last-child::after {align-self: flex-start;width: 50%;}#sk-container-id-1 div.sk-parallel-item:only-child::after {width: 0;}#sk-container-id-1 div.sk-dashed-wrapped {border: 1px dashed gray;margin: 0 0.4em 0.5em 0.4em;box-sizing: border-box;padding-bottom: 0.4em;background-color: white;}#sk-container-id-1 div.sk-label label {font-family: monospace;font-weight: bold;display: inline-block;line-height: 1.2em;}#sk-container-id-1 div.sk-label-container {text-align: center;}#sk-container-id-1 div.sk-container {/* jupyter's `normalize.less` sets `[hidden] { display: none; }` but bootstrap.min.css set `[hidden] { display: none !important; }` so we also need the `!important` here to be able to override the default hidden behavior on the sphinx rendered scikit-learn.org. See: https://github.com/scikit-learn/scikit-learn/issues/21755 */display: inline-block !important;position: relative;}#sk-container-id-1 div.sk-text-repr-fallback {display: none;}</style><div id=\"sk-container-id-1\" class=\"sk-top-container\"><div class=\"sk-text-repr-fallback\"><pre>GradientBoostingRegressor(min_samples_leaf=4, min_samples_split=10,\n",
       "                          n_estimators=50, random_state=42, subsample=0.8)</pre><b>In a Jupyter environment, please rerun this cell to show the HTML representation or trust the notebook. <br />On GitHub, the HTML representation is unable to render, please try loading this page with nbviewer.org.</b></div><div class=\"sk-container\" hidden><div class=\"sk-item\"><div class=\"sk-estimator sk-toggleable\"><input class=\"sk-toggleable__control sk-hidden--visually\" id=\"sk-estimator-id-1\" type=\"checkbox\" checked><label for=\"sk-estimator-id-1\" class=\"sk-toggleable__label sk-toggleable__label-arrow\">GradientBoostingRegressor</label><div class=\"sk-toggleable__content\"><pre>GradientBoostingRegressor(min_samples_leaf=4, min_samples_split=10,\n",
       "                          n_estimators=50, random_state=42, subsample=0.8)</pre></div></div></div></div></div>"
      ],
      "text/plain": [
       "GradientBoostingRegressor(min_samples_leaf=4, min_samples_split=10,\n",
       "                          n_estimators=50, random_state=42, subsample=0.8)"
      ]
     },
     "execution_count": 51,
     "metadata": {},
     "output_type": "execute_result"
    }
   ],
   "source": [
    "# age_best_params = grid_search_age.best_params_\n",
    "# age_best_score = grid_search_age.best_score_\n",
    "# best_age_model = grid_search_age.best_estimator_\n",
    "# print(\"Best parameters for Age Model:\", age_best_params)\n",
    "# print(\"Best score for Age Model:\", age_best_score)\n",
    "# print(\"Best estimator for Age Model:\", best_age_model)\n",
    "\n",
    "\n",
    "\n",
    "# Best parameters for Age Model: {'learning_rate': 0.1, 'max_depth': 3, 'min_samples_leaf': 4, 'min_samples_split': 10, 'n_estimators': 50, 'random_state': 42, 'subsample': 0.8}\n",
    "# Best score for Age Model: -130.83516660257936\n",
    "# Best estimator for Age Model: GradientBoostingRegressor(min_samples_leaf=4, min_samples_split=10,\n",
    "#                           n_estimators=50, random_state=42, subsample=0.8)\n",
    "\n",
    "age_best_params = {'learning_rate': 0.1, 'max_depth': 3, 'min_samples_leaf': 4, 'min_samples_split': 10, 'n_estimators': 50, 'random_state': 42, 'subsample': 0.8}\n",
    "\n",
    "best_age_model = GradientBoostingRegressor(**age_best_params)\n",
    "best_age_model.fit(X_age_known, y_age_known)"
   ]
  },
  {
   "cell_type": "code",
   "execution_count": 52,
   "id": "4f60f34c",
   "metadata": {
    "execution": {
     "iopub.execute_input": "2024-11-03T06:33:21.330380Z",
     "iopub.status.busy": "2024-11-03T06:33:21.329924Z",
     "iopub.status.idle": "2024-11-03T06:33:21.342786Z",
     "shell.execute_reply": "2024-11-03T06:33:21.341767Z"
    },
    "papermill": {
     "duration": 0.055724,
     "end_time": "2024-11-03T06:33:21.345553",
     "exception": false,
     "start_time": "2024-11-03T06:33:21.289829",
     "status": "completed"
    },
    "tags": []
   },
   "outputs": [],
   "source": [
    "age_known = exp5_data[exp5_data['Age'].notna()]\n",
    "age_unknown = exp5_data[exp5_data['Age'].isna()]\n",
    "\n",
    "X_age_known = age_known.drop(['Age', 'Survived'], axis=1)\n",
    "y_age_known = age_known['Age']\n",
    "X_age_unknown = age_unknown.drop(['Age', 'Survived'], axis=1)\n",
    "\n",
    "age_prediction = best_age_model.predict(X_age_known)"
   ]
  },
  {
   "cell_type": "code",
   "execution_count": 53,
   "id": "a9893ef0",
   "metadata": {
    "execution": {
     "iopub.execute_input": "2024-11-03T06:33:21.432416Z",
     "iopub.status.busy": "2024-11-03T06:33:21.431421Z",
     "iopub.status.idle": "2024-11-03T06:33:21.823004Z",
     "shell.execute_reply": "2024-11-03T06:33:21.821483Z"
    },
    "papermill": {
     "duration": 0.434216,
     "end_time": "2024-11-03T06:33:21.826333",
     "exception": false,
     "start_time": "2024-11-03T06:33:21.392117",
     "status": "completed"
    },
    "tags": []
   },
   "outputs": [
    {
     "data": {
      "image/png": "[encoded data removed]",
      "text/plain": [
       "<Figure size 400x400 with 1 Axes>"
      ]
     },
     "metadata": {},
     "output_type": "display_data"
    }
   ],
   "source": [
    "plt.figure(figsize=(4, 4))\n",
    "\n",
    "plt.scatter(y_age_known, age_prediction, alpha=0.5)\n",
    "plt.plot([min(y_age_known), max(y_age_known)], [min(y_age_known), max(y_age_known)], color='red', linestyle='--')\n",
    "plt.title('Predicted vs Actual Age')\n",
    "plt.xlabel('Actual Age')\n",
    "plt.ylabel('Predicted Age')\n",
    "plt.show()"
   ]
  },
  {
   "cell_type": "markdown",
   "id": "ce8829df",
   "metadata": {
    "papermill": {
     "duration": 0.040267,
     "end_time": "2024-11-03T06:33:21.914622",
     "exception": false,
     "start_time": "2024-11-03T06:33:21.874355",
     "status": "completed"
    },
    "tags": []
   },
   "source": [
    "### Predicting age"
   ]
  },
  {
   "cell_type": "code",
   "execution_count": 54,
   "id": "53c5f842",
   "metadata": {
    "execution": {
     "iopub.execute_input": "2024-11-03T06:33:21.999304Z",
     "iopub.status.busy": "2024-11-03T06:33:21.998375Z",
     "iopub.status.idle": "2024-11-03T06:33:22.009166Z",
     "shell.execute_reply": "2024-11-03T06:33:22.008097Z"
    },
    "papermill": {
     "duration": 0.055028,
     "end_time": "2024-11-03T06:33:22.011573",
     "exception": false,
     "start_time": "2024-11-03T06:33:21.956545",
     "status": "completed"
    },
    "tags": []
   },
   "outputs": [],
   "source": [
    "exp5_data.loc[exp5_data['Age'].isna(), 'Age'] = age_model.predict(X_age_unknown)"
   ]
  },
  {
   "cell_type": "markdown",
   "id": "99fc5548",
   "metadata": {
    "papermill": {
     "duration": 0.040586,
     "end_time": "2024-11-03T06:33:22.093316",
     "exception": false,
     "start_time": "2024-11-03T06:33:22.052730",
     "status": "completed"
    },
    "tags": []
   },
   "source": [
    "## Final create_features function"
   ]
  },
  {
   "cell_type": "code",
   "execution_count": 55,
   "id": "fc517ffd",
   "metadata": {
    "execution": {
     "iopub.execute_input": "2024-11-03T06:33:22.176067Z",
     "iopub.status.busy": "2024-11-03T06:33:22.175626Z",
     "iopub.status.idle": "2024-11-03T06:33:22.217102Z",
     "shell.execute_reply": "2024-11-03T06:33:22.216007Z"
    },
    "papermill": {
     "duration": 0.085787,
     "end_time": "2024-11-03T06:33:22.219409",
     "exception": false,
     "start_time": "2024-11-03T06:33:22.133622",
     "status": "completed"
    },
    "tags": []
   },
   "outputs": [],
   "source": [
    "def impute_df(df_train, df_test):\n",
    "    mode = ['Pclass', 'Sex']\n",
    "    none = ['Name', 'Ticket']\n",
    "    zero = ['SibSp', 'Parch']\n",
    "\n",
    "    for df in [df_train, df_test]:\n",
    "        df['Cabin'] = df['Cabin'].fillna('M')\n",
    "\n",
    "    df_train['Embarked'] = df_train['Embarked'].fillna('S')\n",
    "    df_test['Embarked'] = df_test['Embarked'].fillna(df_train['Embarked'].mode()[0])\n",
    "\n",
    "    df_test['Fare'] = df_test['Fare'].fillna(df_train['Fare'].mode()[0])\n",
    "\n",
    "    for feature in mode:\n",
    "        df_train[feature] = df_train[feature].fillna(df_train[feature].mode()[0])\n",
    "        df_test[feature] = df_test[feature].fillna(df_train[feature].mode()[0])\n",
    "\n",
    "    for feature in none:\n",
    "        df_train[feature] = df_train[feature].fillna('None')\n",
    "        df_test[feature] = df_test[feature].fillna('None')\n",
    "\n",
    "    for feature in zero:\n",
    "        df_train[feature] = df_train[feature].fillna(0)\n",
    "        df_test[feature] = df_test[feature].fillna(0)\n",
    "\n",
    "    fare_by_pclass = df_train.groupby('Pclass')['Fare'].transform('mean')\n",
    "\n",
    "    df_train['Fare'] = df_train['Fare'].fillna(df_train['Pclass'].map(fare_by_pclass))\n",
    "    df_test['Fare'] = df_test['Fare'].fillna(df_test['Pclass'].map(fare_by_pclass))\n",
    "\n",
    "    return df_train, df_test\n",
    "\n",
    "\n",
    "def cabin_to_deck(df):\n",
    "    deck_map = {\n",
    "        'A': 'ABC',\n",
    "        'B': 'ABC',\n",
    "        'C': 'ABC',\n",
    "        'T': 'ABC',\n",
    "        'D': 'DE',\n",
    "        'E': 'DE',\n",
    "        'F': 'FG',\n",
    "        'G': 'FG',\n",
    "        'M': 'M'\n",
    "    }\n",
    "\n",
    "    df['Deck'] = df['Cabin'].str[0]\n",
    "    df['Deck'] = df['Deck'].map(deck_map)\n",
    "\n",
    "    df = df.drop('Cabin', axis=1)\n",
    "\n",
    "    return df\n",
    "\n",
    "\n",
    "def categorize_family(member):\n",
    "    if member == 1:\n",
    "        return 'alone'\n",
    "    elif member >= 2 and member <= 5:\n",
    "        return 'small'\n",
    "    elif member >= 6:\n",
    "        return 'big'\n",
    "\n",
    "\n",
    "\n",
    "def encode_family(df):\n",
    "    df['Family_size'] = df['Parch'] + df['SibSp'] + 1\n",
    "    df['Family_cat'] = df['Family_size'].apply(categorize_family)\n",
    "\n",
    "    return df\n",
    "\n",
    "\n",
    "def encode_ticket(df_train, df_test):\n",
    "    ticket_map = df_train['Ticket'].value_counts()\n",
    "    ticket_map_test = ticket_map + 1\n",
    "\n",
    "    df_train['Ticket_frequency'] = df_train['Ticket'].map(ticket_map)\n",
    "    df_test['Ticket_frequency'] = df_test['Ticket'].map(ticket_map_test).fillna(1)\n",
    "    \n",
    "    return df_train, df_test\n",
    "    \n",
    "\n",
    "def extract_title(name_series):\n",
    "    title = name_series.str.extract('([A-Za-z]+)\\.')\n",
    "    \n",
    "    return title\n",
    "    \n",
    "\n",
    "def extract_surname(name_series):\n",
    "    surname = name_series.str.split(',', n=1, expand=True).iloc[:, 0]\n",
    "    \n",
    "    return surname\n",
    "    \n",
    "\n",
    "def encode_name(df):\n",
    "\n",
    "    title_map = {\n",
    "        'Mr': 'Mr',\n",
    "        'Miss': 'Miss',\n",
    "        'Ms': 'Miss',\n",
    "        'Mlle': 'Miss',\n",
    "        'Mrs': 'Mrs',\n",
    "        'Mme': 'Mrs',\n",
    "        'Master': 'Master',\n",
    "        'Don': 'Nobility',\n",
    "        'Sir': 'Nobility',\n",
    "        'Countess': 'Nobility',\n",
    "        'Lady': 'Nobility',\n",
    "        'Jonkheer': 'Nobility',\n",
    "        'Dr': 'Professional',\n",
    "        'Rev': 'Professional',\n",
    "        'Major': 'Professional',\n",
    "        'Col': 'Professional',\n",
    "        'Capt': 'Professional'\n",
    "    }\n",
    "\n",
    "    df['Title'] = extract_title(df['Name'])\n",
    "    df['Title'] = df['Title'].map(title_map).fillna('Rare')\n",
    "\n",
    "    df['Family_name'] = extract_surname(df['Name'])\n",
    "\n",
    "    return df\n",
    "\n",
    "\n",
    "def map_survival_rate(series, mapping, default):\n",
    "    \n",
    "    return series.map(mapping).fillna(default)\n",
    "\n",
    "\n",
    "def target_encoding(df_train, df_test):\n",
    "    family_survival_rate = df_train.groupby(['Family_name']).Survived.median()\n",
    "    ticket_survival_rate = df_train.groupby(['Ticket']).Survived.median()\n",
    "    default_survival_rate = df_train['Survived'].mean()\n",
    "\n",
    "    df_train['Family_survival_rate'] = map_survival_rate(df_train['Family_name'], family_survival_rate, default_survival_rate)\n",
    "    df_test['Family_survival_rate'] = map_survival_rate(df_test['Family_name'], family_survival_rate, default_survival_rate)\n",
    "\n",
    "    df_train['Ticket_survival_rate'] = map_survival_rate(df_train['Ticket'], ticket_survival_rate, default_survival_rate)\n",
    "    df_test['Ticket_survival_rate'] = map_survival_rate(df_test['Ticket'], ticket_survival_rate, default_survival_rate)\n",
    "    \n",
    "    return df_train, df_test\n",
    "\n",
    "\n",
    "def label_encoding(df):\n",
    "    label_features = ['Sex', 'Family_cat']\n",
    "    \n",
    "    sex_map = {\n",
    "        'male': 0,\n",
    "        'female': 1\n",
    "    }\n",
    "    \n",
    "    family_cat_map = {\n",
    "        'alone': 0,\n",
    "        'small': 1,\n",
    "        'big': 2\n",
    "    }\n",
    "\n",
    "    df['Sex'] = df['Sex'].map(sex_map)\n",
    "    df['Family_cat'] = df['Family_cat'].map(family_cat_map)\n",
    "\n",
    "    return df\n",
    "\n",
    "\n",
    "def onehot_encoding(df_train, df_test):\n",
    "\n",
    "    oh_cat = ['Embarked', 'Deck', 'Title']\n",
    "    oh_encoder = OneHotEncoder(drop='first', handle_unknown='ignore', sparse_output=False)\n",
    "    \n",
    "    train_encoded = oh_encoder.fit_transform(df_train[oh_cat])\n",
    "    test_encoded = oh_encoder.transform(df_test[oh_cat])\n",
    "\n",
    "    df_train_encoded = pd.DataFrame(train_encoded, columns=oh_encoder.get_feature_names_out(oh_cat))\n",
    "    df_test_encoded = pd.DataFrame(test_encoded, columns=oh_encoder.get_feature_names_out(oh_cat))\n",
    "\n",
    "    df_train = pd.concat([df_train.reset_index(drop=True), df_train_encoded.reset_index(drop=True)], axis=1)\n",
    "    df_test = pd.concat([df_test.reset_index(drop=True), df_test_encoded.reset_index(drop=True)], axis=1)\n",
    "\n",
    "    return df_train, df_test\n",
    "\n",
    "    \n",
    "def impute_age(df_train, df_test):\n",
    "\n",
    "    train_age_known = df_train[df_train['Age'].notna()]\n",
    "    train_age_unknown = df_train[df_train['Age'].isna()]\n",
    "    test_age_unknown = df_test[df_test['Age'].isna()]\n",
    "\n",
    "    X_train_age_known = train_age_known.drop(['Survived', 'Age'], axis=1)\n",
    "    y_train_age_known = train_age_known['Age']\n",
    "    X_train_age_unknown = train_age_unknown.drop(['Survived', 'Age'], axis=1)\n",
    "    X_test_age_unknown = test_age_unknown.drop('Age', axis=1)\n",
    "\n",
    "    df_train.loc[df_train['Age'].isna(), 'Age'] = best_age_model.predict(X_train_age_unknown)\n",
    "    df_test.loc[df_test['Age'].isna(), 'Age'] = best_age_model.predict(X_test_age_unknown)\n",
    "\n",
    "    return df_train, df_test\n",
    "\n",
    "\n",
    "def create_features(df_train, df_test):\n",
    "\n",
    "    df_train, df_test = impute_df(df_train, df_test)\n",
    "    \n",
    "    df_train = cabin_to_deck(df_train)\n",
    "    df_test = cabin_to_deck(df_test)\n",
    "\n",
    "    df_train = encode_family(df_train)\n",
    "    df_test = encode_family(df_test)\n",
    "    \n",
    "    df_train, df_test = encode_ticket(df_train, df_test)\n",
    "\n",
    "    df_train = encode_name(df_train)\n",
    "    df_test = encode_name(df_test)\n",
    "\n",
    "    # df_train, df_test = target_encoding(df_train, df_test)\n",
    "\n",
    "    df_train = label_encoding(df_train)\n",
    "    df_test = label_encoding(df_test)\n",
    "\n",
    "    df_train, df_test = onehot_encoding(df_train, df_test)\n",
    "\n",
    "    df_train = df_train.drop(oh_cat + ['Name', 'Ticket', 'Family_name', 'SibSp', 'Parch'], axis=1)\n",
    "    df_test = df_test.drop(oh_cat + ['Name', 'Ticket', 'Family_name', 'SibSp', 'Parch'], axis=1)\n",
    "\n",
    "    df_train, df_test = impute_age(df_train, df_test)\n",
    "\n",
    "    return df_train, df_test"
   ]
  },
  {
   "cell_type": "markdown",
   "id": "58887435",
   "metadata": {
    "papermill": {
     "duration": 0.039846,
     "end_time": "2024-11-03T06:33:22.298330",
     "exception": false,
     "start_time": "2024-11-03T06:33:22.258484",
     "status": "completed"
    },
    "tags": []
   },
   "source": [
    "# Model Building"
   ]
  },
  {
   "cell_type": "code",
   "execution_count": 56,
   "id": "49ba0c2c",
   "metadata": {
    "execution": {
     "iopub.execute_input": "2024-11-03T06:33:22.378671Z",
     "iopub.status.busy": "2024-11-03T06:33:22.377697Z",
     "iopub.status.idle": "2024-11-03T06:33:22.397725Z",
     "shell.execute_reply": "2024-11-03T06:33:22.396695Z"
    },
    "papermill": {
     "duration": 0.063198,
     "end_time": "2024-11-03T06:33:22.400133",
     "exception": false,
     "start_time": "2024-11-03T06:33:22.336935",
     "status": "completed"
    },
    "scrolled": true,
    "tags": []
   },
   "outputs": [],
   "source": [
    "train_data = pd.read_csv('/kaggle/input/titanic/train.csv', index_col='PassengerId')\n",
    "\n",
    "test_data = pd.read_csv('/kaggle/input/titanic/test.csv', index_col='PassengerId')\n",
    "\n",
    "ids = test_data.index"
   ]
  },
  {
   "cell_type": "code",
   "execution_count": 57,
   "id": "45ea8167",
   "metadata": {
    "execution": {
     "iopub.execute_input": "2024-11-03T06:33:22.482367Z",
     "iopub.status.busy": "2024-11-03T06:33:22.481391Z",
     "iopub.status.idle": "2024-11-03T06:33:22.551382Z",
     "shell.execute_reply": "2024-11-03T06:33:22.550213Z"
    },
    "papermill": {
     "duration": 0.113616,
     "end_time": "2024-11-03T06:33:22.554050",
     "exception": false,
     "start_time": "2024-11-03T06:33:22.440434",
     "status": "completed"
    },
    "tags": []
   },
   "outputs": [
    {
     "name": "stderr",
     "output_type": "stream",
     "text": [
      "/opt/conda/lib/python3.10/site-packages/sklearn/preprocessing/_encoders.py:202: UserWarning: Found unknown categories in columns [2] during transform. These unknown categories will be encoded as all zeros\n",
      "  warnings.warn(\n"
     ]
    }
   ],
   "source": [
    "train_df, test_df = create_features(train_data, test_data)"
   ]
  },
  {
   "cell_type": "code",
   "execution_count": 58,
   "id": "7e11486e",
   "metadata": {
    "execution": {
     "iopub.execute_input": "2024-11-03T06:33:22.637596Z",
     "iopub.status.busy": "2024-11-03T06:33:22.637127Z",
     "iopub.status.idle": "2024-11-03T06:33:22.643702Z",
     "shell.execute_reply": "2024-11-03T06:33:22.642505Z"
    },
    "papermill": {
     "duration": 0.049758,
     "end_time": "2024-11-03T06:33:22.645937",
     "exception": false,
     "start_time": "2024-11-03T06:33:22.596179",
     "status": "completed"
    },
    "tags": []
   },
   "outputs": [],
   "source": [
    "X = train_df.drop('Survived', axis=1)\n",
    "\n",
    "y = train_df['Survived']"
   ]
  },
  {
   "cell_type": "code",
   "execution_count": 59,
   "id": "35134386",
   "metadata": {
    "execution": {
     "iopub.execute_input": "2024-11-03T06:33:22.727933Z",
     "iopub.status.busy": "2024-11-03T06:33:22.727067Z",
     "iopub.status.idle": "2024-11-03T06:33:22.736009Z",
     "shell.execute_reply": "2024-11-03T06:33:22.734858Z"
    },
    "papermill": {
     "duration": 0.052723,
     "end_time": "2024-11-03T06:33:22.738390",
     "exception": false,
     "start_time": "2024-11-03T06:33:22.685667",
     "status": "completed"
    },
    "tags": []
   },
   "outputs": [],
   "source": [
    "X_train, X_valid, y_train, y_valid = train_test_split(X, y, test_size=0.2, random_state=SEED)"
   ]
  },
  {
   "cell_type": "code",
   "execution_count": 60,
   "id": "4968ca23",
   "metadata": {
    "execution": {
     "iopub.execute_input": "2024-11-03T06:33:22.819924Z",
     "iopub.status.busy": "2024-11-03T06:33:22.819056Z",
     "iopub.status.idle": "2024-11-03T06:33:23.068781Z",
     "shell.execute_reply": "2024-11-03T06:33:23.067693Z"
    },
    "papermill": {
     "duration": 0.293504,
     "end_time": "2024-11-03T06:33:23.071474",
     "exception": false,
     "start_time": "2024-11-03T06:33:22.777970",
     "status": "completed"
    },
    "tags": []
   },
   "outputs": [],
   "source": [
    "model = XGBClassifier()\n",
    "\n",
    "model.fit(X_train, y_train)\n",
    "\n",
    "prediction = model.predict(X_train)"
   ]
  },
  {
   "cell_type": "code",
   "execution_count": 61,
   "id": "8d296737",
   "metadata": {
    "execution": {
     "iopub.execute_input": "2024-11-03T06:33:23.157226Z",
     "iopub.status.busy": "2024-11-03T06:33:23.156506Z",
     "iopub.status.idle": "2024-11-03T06:33:23.174988Z",
     "shell.execute_reply": "2024-11-03T06:33:23.173714Z"
    },
    "papermill": {
     "duration": 0.062753,
     "end_time": "2024-11-03T06:33:23.177443",
     "exception": false,
     "start_time": "2024-11-03T06:33:23.114690",
     "status": "completed"
    },
    "tags": []
   },
   "outputs": [
    {
     "name": "stdout",
     "output_type": "stream",
     "text": [
      "Accuracy: 0.98\n",
      "Classification Report:\n",
      "              precision    recall  f1-score   support\n",
      "\n",
      "           0       0.97      1.00      0.98       444\n",
      "           1       0.99      0.95      0.97       268\n",
      "\n",
      "    accuracy                           0.98       712\n",
      "   macro avg       0.98      0.97      0.98       712\n",
      "weighted avg       0.98      0.98      0.98       712\n",
      "\n",
      "Confusion Matrix:\n",
      "[[442   2]\n",
      " [ 14 254]]\n"
     ]
    }
   ],
   "source": [
    "accuracy = accuracy_score(y_train, prediction)\n",
    "print(f'Accuracy: {accuracy:.2f}')\n",
    "\n",
    "# Display classification report and confusion matrix\n",
    "print(\"Classification Report:\")\n",
    "print(classification_report(y_train, prediction))\n",
    "\n",
    "print(\"Confusion Matrix:\")\n",
    "print(confusion_matrix(y_train, prediction))"
   ]
  },
  {
   "cell_type": "code",
   "execution_count": 62,
   "id": "b733e3b8",
   "metadata": {
    "execution": {
     "iopub.execute_input": "2024-11-03T06:33:23.259642Z",
     "iopub.status.busy": "2024-11-03T06:33:23.258823Z",
     "iopub.status.idle": "2024-11-03T06:33:23.270024Z",
     "shell.execute_reply": "2024-11-03T06:33:23.269075Z"
    },
    "papermill": {
     "duration": 0.055351,
     "end_time": "2024-11-03T06:33:23.272994",
     "exception": false,
     "start_time": "2024-11-03T06:33:23.217643",
     "status": "completed"
    },
    "tags": []
   },
   "outputs": [],
   "source": [
    "prediction = model.predict(X_valid)"
   ]
  },
  {
   "cell_type": "code",
   "execution_count": 63,
   "id": "58b2f080",
   "metadata": {
    "execution": {
     "iopub.execute_input": "2024-11-03T06:33:23.358563Z",
     "iopub.status.busy": "2024-11-03T06:33:23.357978Z",
     "iopub.status.idle": "2024-11-03T06:33:23.378780Z",
     "shell.execute_reply": "2024-11-03T06:33:23.377756Z"
    },
    "papermill": {
     "duration": 0.065559,
     "end_time": "2024-11-03T06:33:23.381167",
     "exception": false,
     "start_time": "2024-11-03T06:33:23.315608",
     "status": "completed"
    },
    "tags": []
   },
   "outputs": [
    {
     "name": "stdout",
     "output_type": "stream",
     "text": [
      "Accuracy: 0.80\n",
      "Classification Report:\n",
      "              precision    recall  f1-score   support\n",
      "\n",
      "           0       0.83      0.84      0.83       105\n",
      "           1       0.77      0.76      0.76        74\n",
      "\n",
      "    accuracy                           0.80       179\n",
      "   macro avg       0.80      0.80      0.80       179\n",
      "weighted avg       0.80      0.80      0.80       179\n",
      "\n",
      "Confusion Matrix:\n",
      "[[88 17]\n",
      " [18 56]]\n"
     ]
    }
   ],
   "source": [
    "accuracy = accuracy_score(y_valid, prediction)\n",
    "print(f'Accuracy: {accuracy:.2f}')\n",
    "\n",
    "# Display classification report and confusion matrix\n",
    "\n",
    "print(\"Classification Report:\")\n",
    "print(classification_report(y_valid, prediction))\n",
    "\n",
    "print(\"Confusion Matrix:\")\n",
    "print(confusion_matrix(y_valid, prediction))"
   ]
  },
  {
   "cell_type": "markdown",
   "id": "a69b2cbf",
   "metadata": {
    "papermill": {
     "duration": 0.040261,
     "end_time": "2024-11-03T06:33:23.461695",
     "exception": false,
     "start_time": "2024-11-03T06:33:23.421434",
     "status": "completed"
    },
    "tags": []
   },
   "source": [
    "## Hyperparameter tuning"
   ]
  },
  {
   "cell_type": "code",
   "execution_count": 64,
   "id": "e8323874",
   "metadata": {
    "execution": {
     "iopub.execute_input": "2024-11-03T06:33:23.545639Z",
     "iopub.status.busy": "2024-11-03T06:33:23.544752Z",
     "iopub.status.idle": "2024-11-03T06:33:23.552369Z",
     "shell.execute_reply": "2024-11-03T06:33:23.551277Z"
    },
    "papermill": {
     "duration": 0.051709,
     "end_time": "2024-11-03T06:33:23.554607",
     "exception": false,
     "start_time": "2024-11-03T06:33:23.502898",
     "status": "completed"
    },
    "tags": []
   },
   "outputs": [],
   "source": [
    "param_grid_model = {\n",
    "    'n_estimators': [50, 100, 150, 200],            # Number of boosting rounds\n",
    "    'learning_rate': [0.001, 0.01, 0.1, 0.2],       # Step size shrinkage\n",
    "    'max_depth': [3, 4, 5, 6],                      # Maximum depth of trees\n",
    "    'min_child_weight': [1, 3, 5],                  # Minimum sum of instance weight in a child\n",
    "    'gamma': [0, 0.1, 0.2, 0.3],                    # Minimum loss reduction for a partition\n",
    "    'subsample': [0.6, 0.7, 0.8, 0.9],              # Subsample ratio for training instances\n",
    "    'colsample_bytree': [0.6, 0.7, 0.8, 0.9],       # Subsample ratio of columns\n",
    "    'scale_pos_weight': [1, 3, 5],                  # Weight balance for imbalanced classes\n",
    "    'random_state': [SEED],                           # Fix random seed\n",
    "}"
   ]
  },
  {
   "cell_type": "code",
   "execution_count": 65,
   "id": "c49cdfb2",
   "metadata": {
    "execution": {
     "iopub.execute_input": "2024-11-03T06:33:23.635743Z",
     "iopub.status.busy": "2024-11-03T06:33:23.634836Z",
     "iopub.status.idle": "2024-11-03T06:33:23.640965Z",
     "shell.execute_reply": "2024-11-03T06:33:23.639890Z"
    },
    "papermill": {
     "duration": 0.049202,
     "end_time": "2024-11-03T06:33:23.643293",
     "exception": false,
     "start_time": "2024-11-03T06:33:23.594091",
     "status": "completed"
    },
    "tags": []
   },
   "outputs": [],
   "source": [
    "grid_search_model = GridSearchCV(\n",
    "    estimator=model,\n",
    "    param_grid=param_grid_model,\n",
    "    cv=5,                                         # Number of cross-validation folds\n",
    "    scoring='accuracy',                           # Scoring method\n",
    "    n_jobs=-1,                                    # Use all available cores\n",
    "    verbose=2,                                    # Verbosity level\n",
    "    return_train_score=True                        # Return training scores as well\n",
    ")\n",
    "\n",
    "# grid_search_model.fit(X_train, y_train)"
   ]
  },
  {
   "cell_type": "code",
   "execution_count": 66,
   "id": "5d6a964f",
   "metadata": {
    "execution": {
     "iopub.execute_input": "2024-11-03T06:33:23.725532Z",
     "iopub.status.busy": "2024-11-03T06:33:23.725056Z",
     "iopub.status.idle": "2024-11-03T06:33:27.216687Z",
     "shell.execute_reply": "2024-11-03T06:33:27.215757Z"
    },
    "papermill": {
     "duration": 3.536149,
     "end_time": "2024-11-03T06:33:27.219360",
     "exception": false,
     "start_time": "2024-11-03T06:33:23.683211",
     "status": "completed"
    },
    "tags": []
   },
   "outputs": [],
   "source": [
    "# best_params = grid_search_model.best_params_\n",
    "# best_score = grid_search_model.best_score_\n",
    "# best_model = grid_search_model.best_estimator_\n",
    "# print(\"Best parameters for Model:\", best_params)\n",
    "# print(\"Best score for Model:\", best_score)\n",
    "# print(\"Best estimator for Model:\", best_model)\n",
    "\n",
    "# Best parameters for Model: {'colsample_bytree': 0.6, 'gamma': 0, 'learning_rate': 0.1, 'max_depth': 4, 'min_child_weight': 5, 'n_estimators': 50, 'random_state': 42, 'scale_pos_weight': 1, 'subsample': 0.8}\n",
    "# Best score for Model: 0.8454742440657934\n",
    "# Best estimator for Model: XGBClassifier(base_score=None, booster=None, callbacks=None,\n",
    "#               colsample_bylevel=None, colsample_bynode=None,\n",
    "#               colsample_bytree=0.6, device=None, early_stopping_rounds=None,\n",
    "#               enable_categorical=False, eval_metric=None, feature_types=None,\n",
    "#               gamma=0, grow_policy=None, importance_type=None,\n",
    "#               interaction_constraints=None, learning_rate=0.1, max_bin=None,\n",
    "#               max_cat_threshold=None, max_cat_to_onehot=None,\n",
    "#               max_delta_step=None, max_depth=4, max_leaves=None,\n",
    "#               min_child_weight=5, missing=nan, monotone_constraints=None,\n",
    "#               multi_strategy=None, n_estimators=50, n_jobs=None,\n",
    "#               num_parallel_tree=None, random_state=42, ...)\n",
    "\n",
    "best_params = {'colsample_bytree': 0.6, 'gamma': 0, 'learning_rate': 0.1, 'max_depth': 4, 'min_child_weight': 5, 'n_estimators': 50, 'scale_pos_weight': 1, 'subsample': 0.8}\n",
    "\n",
    "n_models = 100\n",
    "models = []\n",
    "\n",
    "for i in range(n_models):\n",
    "    best_model = XGBClassifier(**best_params, random_state=i)\n",
    "    best_model.fit(X_train, y_train)\n",
    "    models.append(best_model)"
   ]
  },
  {
   "cell_type": "code",
   "execution_count": 67,
   "id": "1de8fd48",
   "metadata": {
    "execution": {
     "iopub.execute_input": "2024-11-03T06:33:27.308495Z",
     "iopub.status.busy": "2024-11-03T06:33:27.307587Z",
     "iopub.status.idle": "2024-11-03T06:33:27.812398Z",
     "shell.execute_reply": "2024-11-03T06:33:27.811341Z"
    },
    "papermill": {
     "duration": 0.552765,
     "end_time": "2024-11-03T06:33:27.815064",
     "exception": false,
     "start_time": "2024-11-03T06:33:27.262299",
     "status": "completed"
    },
    "tags": []
   },
   "outputs": [],
   "source": [
    "predictions = np.array([model.predict(X_train) for model in models])\n",
    "ensemble_predictions = (np.mean(predictions, axis=0) > 0.5).astype(int)"
   ]
  },
  {
   "cell_type": "code",
   "execution_count": 68,
   "id": "a3251bcb",
   "metadata": {
    "execution": {
     "iopub.execute_input": "2024-11-03T06:33:27.899496Z",
     "iopub.status.busy": "2024-11-03T06:33:27.898617Z",
     "iopub.status.idle": "2024-11-03T06:33:27.917685Z",
     "shell.execute_reply": "2024-11-03T06:33:27.916275Z"
    },
    "papermill": {
     "duration": 0.063117,
     "end_time": "2024-11-03T06:33:27.920088",
     "exception": false,
     "start_time": "2024-11-03T06:33:27.856971",
     "status": "completed"
    },
    "tags": []
   },
   "outputs": [
    {
     "name": "stdout",
     "output_type": "stream",
     "text": [
      "Accuracy: 0.87\n",
      "Classification Report:\n",
      "              precision    recall  f1-score   support\n",
      "\n",
      "           0       0.86      0.93      0.90       444\n",
      "           1       0.87      0.75      0.81       268\n",
      "\n",
      "    accuracy                           0.87       712\n",
      "   macro avg       0.87      0.84      0.85       712\n",
      "weighted avg       0.87      0.87      0.86       712\n",
      "\n",
      "Confusion Matrix:\n",
      "[[414  30]\n",
      " [ 66 202]]\n"
     ]
    }
   ],
   "source": [
    "accuracy = accuracy_score(y_train, ensemble_predictions)\n",
    "print(f'Accuracy: {accuracy:.2f}')\n",
    "\n",
    "# Display classification report and confusion matrix\n",
    "\n",
    "print(\"Classification Report:\")\n",
    "print(classification_report(y_train, ensemble_predictions))\n",
    "\n",
    "print(\"Confusion Matrix:\")\n",
    "print(confusion_matrix(y_train, ensemble_predictions))"
   ]
  },
  {
   "cell_type": "code",
   "execution_count": 69,
   "id": "fe733bed",
   "metadata": {
    "execution": {
     "iopub.execute_input": "2024-11-03T06:33:28.002272Z",
     "iopub.status.busy": "2024-11-03T06:33:28.001486Z",
     "iopub.status.idle": "2024-11-03T06:33:28.411299Z",
     "shell.execute_reply": "2024-11-03T06:33:28.410389Z"
    },
    "papermill": {
     "duration": 0.453459,
     "end_time": "2024-11-03T06:33:28.414005",
     "exception": false,
     "start_time": "2024-11-03T06:33:27.960546",
     "status": "completed"
    },
    "tags": []
   },
   "outputs": [],
   "source": [
    "predictions = np.array([model.predict(X_valid) for model in models])\n",
    "ensemble_predictions = (np.mean(predictions, axis=0) > 0.5).astype(int)"
   ]
  },
  {
   "cell_type": "code",
   "execution_count": 70,
   "id": "8b93aa69",
   "metadata": {
    "execution": {
     "iopub.execute_input": "2024-11-03T06:33:28.498097Z",
     "iopub.status.busy": "2024-11-03T06:33:28.497003Z",
     "iopub.status.idle": "2024-11-03T06:33:28.515675Z",
     "shell.execute_reply": "2024-11-03T06:33:28.514383Z"
    },
    "papermill": {
     "duration": 0.062612,
     "end_time": "2024-11-03T06:33:28.518156",
     "exception": false,
     "start_time": "2024-11-03T06:33:28.455544",
     "status": "completed"
    },
    "tags": []
   },
   "outputs": [
    {
     "name": "stdout",
     "output_type": "stream",
     "text": [
      "Accuracy: 0.84\n",
      "Classification Report:\n",
      "              precision    recall  f1-score   support\n",
      "\n",
      "           0       0.86      0.88      0.87       105\n",
      "           1       0.82      0.80      0.81        74\n",
      "\n",
      "    accuracy                           0.84       179\n",
      "   macro avg       0.84      0.84      0.84       179\n",
      "weighted avg       0.84      0.84      0.84       179\n",
      "\n",
      "Confusion Matrix:\n",
      "[[92 13]\n",
      " [15 59]]\n"
     ]
    }
   ],
   "source": [
    "accuracy = accuracy_score(y_valid, ensemble_predictions)\n",
    "print(f'Accuracy: {accuracy:.2f}')\n",
    "\n",
    "# Display classification report and confusion matrix\n",
    "\n",
    "print(\"Classification Report:\")\n",
    "print(classification_report(y_valid, ensemble_predictions))\n",
    "\n",
    "print(\"Confusion Matrix:\")\n",
    "print(confusion_matrix(y_valid, ensemble_predictions))"
   ]
  },
  {
   "cell_type": "markdown",
   "id": "40861846",
   "metadata": {
    "papermill": {
     "duration": 0.039329,
     "end_time": "2024-11-03T06:33:28.598152",
     "exception": false,
     "start_time": "2024-11-03T06:33:28.558823",
     "status": "completed"
    },
    "tags": []
   },
   "source": [
    "# Submission"
   ]
  },
  {
   "cell_type": "code",
   "execution_count": 71,
   "id": "f88502d4",
   "metadata": {
    "execution": {
     "iopub.execute_input": "2024-11-03T06:33:28.678874Z",
     "iopub.status.busy": "2024-11-03T06:33:28.678100Z",
     "iopub.status.idle": "2024-11-03T06:33:29.100435Z",
     "shell.execute_reply": "2024-11-03T06:33:29.099271Z"
    },
    "papermill": {
     "duration": 0.466141,
     "end_time": "2024-11-03T06:33:29.103125",
     "exception": false,
     "start_time": "2024-11-03T06:33:28.636984",
     "status": "completed"
    },
    "tags": []
   },
   "outputs": [
    {
     "data": {
      "text/html": [
       "<div>\n",
       "<style scoped>\n",
       "    .dataframe tbody tr th:only-of-type {\n",
       "        vertical-align: middle;\n",
       "    }\n",
       "\n",
       "    .dataframe tbody tr th {\n",
       "        vertical-align: top;\n",
       "    }\n",
       "\n",
       "    .dataframe thead th {\n",
       "        text-align: right;\n",
       "    }\n",
       "</style>\n",
       "<table border=\"1\" class=\"dataframe\">\n",
       "  <thead>\n",
       "    <tr style=\"text-align: right;\">\n",
       "      <th></th>\n",
       "      <th>Id</th>\n",
       "      <th>Survived</th>\n",
       "    </tr>\n",
       "  </thead>\n",
       "  <tbody>\n",
       "    <tr>\n",
       "      <th>0</th>\n",
       "      <td>892</td>\n",
       "      <td>0</td>\n",
       "    </tr>\n",
       "    <tr>\n",
       "      <th>1</th>\n",
       "      <td>893</td>\n",
       "      <td>1</td>\n",
       "    </tr>\n",
       "    <tr>\n",
       "      <th>2</th>\n",
       "      <td>894</td>\n",
       "      <td>0</td>\n",
       "    </tr>\n",
       "    <tr>\n",
       "      <th>3</th>\n",
       "      <td>895</td>\n",
       "      <td>0</td>\n",
       "    </tr>\n",
       "    <tr>\n",
       "      <th>4</th>\n",
       "      <td>896</td>\n",
       "      <td>1</td>\n",
       "    </tr>\n",
       "  </tbody>\n",
       "</table>\n",
       "</div>"
      ],
      "text/plain": [
       "    Id  Survived\n",
       "0  892         0\n",
       "1  893         1\n",
       "2  894         0\n",
       "3  895         0\n",
       "4  896         1"
      ]
     },
     "execution_count": 71,
     "metadata": {},
     "output_type": "execute_result"
    }
   ],
   "source": [
    "predictions = np.array([model.predict(test_df) for model in models])\n",
    "ensemble_predictions = (np.mean(predictions, axis=0) > 0.5).astype(int)\n",
    "\n",
    "output = pd.DataFrame({'Id': ids,\n",
    "                       'Survived': ensemble_predictions.squeeze()})\n",
    "output.head()"
   ]
  },
  {
   "cell_type": "code",
   "execution_count": 72,
   "id": "104f805f",
   "metadata": {
    "execution": {
     "iopub.execute_input": "2024-11-03T06:33:29.186639Z",
     "iopub.status.busy": "2024-11-03T06:33:29.185756Z",
     "iopub.status.idle": "2024-11-03T06:33:29.230936Z",
     "shell.execute_reply": "2024-11-03T06:33:29.229866Z"
    },
    "papermill": {
     "duration": 0.088936,
     "end_time": "2024-11-03T06:33:29.233397",
     "exception": false,
     "start_time": "2024-11-03T06:33:29.144461",
     "status": "completed"
    },
    "tags": []
   },
   "outputs": [
    {
     "data": {
      "text/html": [
       "<div>\n",
       "<style scoped>\n",
       "    .dataframe tbody tr th:only-of-type {\n",
       "        vertical-align: middle;\n",
       "    }\n",
       "\n",
       "    .dataframe tbody tr th {\n",
       "        vertical-align: top;\n",
       "    }\n",
       "\n",
       "    .dataframe thead th {\n",
       "        text-align: right;\n",
       "    }\n",
       "</style>\n",
       "<table border=\"1\" class=\"dataframe\">\n",
       "  <thead>\n",
       "    <tr style=\"text-align: right;\">\n",
       "      <th></th>\n",
       "      <th>PassengerId</th>\n",
       "      <th>Survived</th>\n",
       "    </tr>\n",
       "  </thead>\n",
       "  <tbody>\n",
       "    <tr>\n",
       "      <th>0</th>\n",
       "      <td>892</td>\n",
       "      <td>0</td>\n",
       "    </tr>\n",
       "    <tr>\n",
       "      <th>1</th>\n",
       "      <td>893</td>\n",
       "      <td>1</td>\n",
       "    </tr>\n",
       "    <tr>\n",
       "      <th>2</th>\n",
       "      <td>894</td>\n",
       "      <td>0</td>\n",
       "    </tr>\n",
       "    <tr>\n",
       "      <th>3</th>\n",
       "      <td>895</td>\n",
       "      <td>0</td>\n",
       "    </tr>\n",
       "    <tr>\n",
       "      <th>4</th>\n",
       "      <td>896</td>\n",
       "      <td>1</td>\n",
       "    </tr>\n",
       "  </tbody>\n",
       "</table>\n",
       "</div>"
      ],
      "text/plain": [
       "   PassengerId  Survived\n",
       "0          892         0\n",
       "1          893         1\n",
       "2          894         0\n",
       "3          895         0\n",
       "4          896         1"
      ]
     },
     "execution_count": 72,
     "metadata": {},
     "output_type": "execute_result"
    }
   ],
   "source": [
    "sample_submission_df = pd.read_csv('/kaggle/input/titanic/gender_submission.csv')\n",
    "sample_submission_df['Survived'] = ensemble_predictions\n",
    "sample_submission_df.to_csv('submission.csv', index=False)\n",
    "sample_submission_df.head()"
   ]
  }
 ],
 "metadata": {
  "kaggle": {
   "accelerator": "none",
   "dataSources": [
    {
     "databundleVersionId": 26502,
     "sourceId": 3136,
     "sourceType": "competition"
    }
   ],
   "dockerImageVersionId": 30786,
   "isGpuEnabled": false,
   "isInternetEnabled": true,
   "language": "python",
   "sourceType": "notebook"
  },
  "kernelspec": {
   "display_name": "Python 3",
   "language": "python",
   "name": "python3"
  },
  "language_info": {
   "codemirror_mode": {
    "name": "ipython",
    "version": 3
   },
   "file_extension": ".py",
   "mimetype": "text/x-python",
   "name": "python",
   "nbconvert_exporter": "python",
   "pygments_lexer": "ipython3",
   "version": "3.10.14"
  },
  "papermill": {
   "default_parameters": {},
   "duration": 27.401884,
   "end_time": "2024-11-03T06:33:29.896204",
   "environment_variables": {},
   "exception": null,
   "input_path": "__notebook__.ipynb",
   "output_path": "__notebook__.ipynb",
   "parameters": {},
   "start_time": "2024-11-03T06:33:02.494320",
   "version": "2.6.0"
  }
 },
 "nbformat": 4,
 "nbformat_minor": 5
}
